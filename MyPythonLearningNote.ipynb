{
  "nbformat": 4,
  "nbformat_minor": 0,
  "metadata": {
    "colab": {
      "name": "MyPythonLearningNote",
      "provenance": [],
      "collapsed_sections": [],
      "toc_visible": true,
      "authorship_tag": "ABX9TyOMUwbYjtnvVXX7B76TiY0R",
      "include_colab_link": true
    },
    "kernelspec": {
      "name": "python3",
      "display_name": "Python 3"
    },
    "language_info": {
      "name": "python"
    }
  },
  "cells": [
    {
      "cell_type": "markdown",
      "metadata": {
        "id": "view-in-github",
        "colab_type": "text"
      },
      "source": [
        "<a href=\"https://colab.research.google.com/github/HaiyanKong/My-Python-Learning-Note/blob/main/MyPythonLearningNote.ipynb\" target=\"_parent\"><img src=\"https://colab.research.google.com/assets/colab-badge.svg\" alt=\"Open In Colab\"/></a>"
      ]
    },
    {
      "cell_type": "markdown",
      "metadata": {
        "id": "3QBhhGLWscSk"
      },
      "source": [
        "# **变量**"
      ]
    },
    {
      "cell_type": "code",
      "source": [
        ""
      ],
      "metadata": {
        "id": "vLyATWkrZhza"
      },
      "execution_count": null,
      "outputs": []
    },
    {
      "cell_type": "markdown",
      "metadata": {
        "id": "KDFJO6cq-bQj"
      },
      "source": [
        "## ***命名规则***\n",
        "\n",
        "*   数字、字母、下划线；数字不能作为首字符\n",
        "*   保留字不能作为变量名；Python的35个保留字：\n",
        "`\n",
        "'False', 'None', 'True', 'and', 'as', 'assert', 'break', 'class', 'continue', 'def', 'del', 'elif', 'else', 'except', 'finally', 'for', 'from', 'global', 'if', 'import', 'in', 'is', 'lambda', 'nonlocal', 'not', 'or', 'pass', 'raise', 'return', 'try', 'while', 'with', 'yield'\n",
        "`\n",
        "*   内置函数不能作为变量名，否则内置函数会失效\n",
        "*   变量需要先定义后使用\n",
        "*   变量区分大小写"
      ]
    },
    {
      "cell_type": "code",
      "metadata": {
        "id": "42R-ilCQnkNL"
      },
      "source": [
        "import keyword\n",
        "keyword.kwlist"
      ],
      "execution_count": null,
      "outputs": []
    },
    {
      "cell_type": "markdown",
      "metadata": {
        "id": "SLIpMo_2-XAb"
      },
      "source": [
        "## ***判断变量是否存在***\n",
        "\n",
        "*   看变量是否分配了内存空间，可通过id函数来查看变量内存地址"
      ]
    },
    {
      "cell_type": "code",
      "metadata": {
        "id": "0uGt9cod1V9S"
      },
      "source": [
        "a=1\n",
        "id(a)"
      ],
      "execution_count": null,
      "outputs": []
    },
    {
      "cell_type": "markdown",
      "metadata": {
        "id": "a2gQfLS6xqqk"
      },
      "source": [
        "# **数据类型**\n",
        "\n",
        "\n",
        "\n",
        "\n",
        "\n",
        "\n",
        "\n"
      ]
    },
    {
      "cell_type": "markdown",
      "metadata": {
        "id": "kl9rwFr544eU"
      },
      "source": [
        "## ***基本数据类型***"
      ]
    },
    {
      "cell_type": "markdown",
      "metadata": {
        "id": "-XQZ7OW05FA2"
      },
      "source": [
        "### *数字类型*"
      ]
    },
    {
      "cell_type": "markdown",
      "metadata": {
        "id": "1Nms_7QB5JvN"
      },
      "source": [
        "#### **整数int**\n",
        "\n",
        "> **不带小数的数**\n",
        "\n",
        "> **整数类型支持四种进制表示：十进制、二进制、八进制、十六进制**\n",
        "\n",
        "> **四则运算**"
      ]
    },
    {
      "cell_type": "code",
      "metadata": {
        "id": "gMbyret72EoO",
        "colab": {
          "base_uri": "https://localhost:8080/"
        },
        "outputId": "b86d7ce8-5a2c-4f17-e0f3-f8596d92163a"
      },
      "source": [
        "type(1)"
      ],
      "execution_count": null,
      "outputs": [
        {
          "output_type": "execute_result",
          "data": {
            "text/plain": [
              "int"
            ]
          },
          "metadata": {
            "tags": []
          },
          "execution_count": 15
        }
      ]
    },
    {
      "cell_type": "code",
      "metadata": {
        "id": "ZRWiOPZG209L",
        "colab": {
          "base_uri": "https://localhost:8080/"
        },
        "outputId": "ab309c3c-f857-4c4a-e00f-2390e1f7242e"
      },
      "source": [
        "0b110   #二进制"
      ],
      "execution_count": null,
      "outputs": [
        {
          "output_type": "execute_result",
          "data": {
            "text/plain": [
              "6"
            ]
          },
          "metadata": {
            "tags": []
          },
          "execution_count": 16
        }
      ]
    },
    {
      "cell_type": "code",
      "metadata": {
        "id": "ejVOS6e_23-3",
        "colab": {
          "base_uri": "https://localhost:8080/"
        },
        "outputId": "dc3ddfbf-7ab4-4a1e-c63b-2f379aa63e94"
      },
      "source": [
        "0o1234567   #八进制"
      ],
      "execution_count": null,
      "outputs": [
        {
          "output_type": "execute_result",
          "data": {
            "text/plain": [
              "342391"
            ]
          },
          "metadata": {
            "tags": []
          },
          "execution_count": 17
        }
      ]
    },
    {
      "cell_type": "code",
      "metadata": {
        "id": "XziACloA3W5u",
        "colab": {
          "base_uri": "https://localhost:8080/"
        },
        "outputId": "26ba17c7-17c6-4124-f904-99ec08e0018d"
      },
      "source": [
        "0x123456789abcdef  #十六进制"
      ],
      "execution_count": null,
      "outputs": [
        {
          "output_type": "execute_result",
          "data": {
            "text/plain": [
              "81985529216486895"
            ]
          },
          "metadata": {
            "tags": []
          },
          "execution_count": 18
        }
      ]
    },
    {
      "cell_type": "code",
      "metadata": {
        "id": "Up9k1UBC4Wl8",
        "colab": {
          "base_uri": "https://localhost:8080/"
        },
        "outputId": "2d932487-0815-42a8-f375-6da068fcaa87"
      },
      "source": [
        "1+1"
      ],
      "execution_count": null,
      "outputs": [
        {
          "output_type": "execute_result",
          "data": {
            "text/plain": [
              "2"
            ]
          },
          "metadata": {
            "tags": []
          },
          "execution_count": 19
        }
      ]
    },
    {
      "cell_type": "code",
      "metadata": {
        "id": "QKmCAC6s4bmB",
        "colab": {
          "base_uri": "https://localhost:8080/"
        },
        "outputId": "c2ec47f5-e1f8-4a62-dccb-667ffba674aa"
      },
      "source": [
        "2-1"
      ],
      "execution_count": null,
      "outputs": [
        {
          "output_type": "execute_result",
          "data": {
            "text/plain": [
              "1"
            ]
          },
          "metadata": {
            "tags": []
          },
          "execution_count": 20
        }
      ]
    },
    {
      "cell_type": "code",
      "metadata": {
        "id": "UMqJ_8su4dby",
        "colab": {
          "base_uri": "https://localhost:8080/"
        },
        "outputId": "e881ea6b-72c4-42fd-bcc8-ba611022c960"
      },
      "source": [
        "1*2"
      ],
      "execution_count": null,
      "outputs": [
        {
          "output_type": "execute_result",
          "data": {
            "text/plain": [
              "2"
            ]
          },
          "metadata": {
            "tags": []
          },
          "execution_count": 21
        }
      ]
    },
    {
      "cell_type": "code",
      "metadata": {
        "id": "9aFJodt44f7r",
        "colab": {
          "base_uri": "https://localhost:8080/"
        },
        "outputId": "4ae8f842-a91b-408b-b7ad-e5dbcdc47fb3"
      },
      "source": [
        "2/1"
      ],
      "execution_count": null,
      "outputs": [
        {
          "output_type": "execute_result",
          "data": {
            "text/plain": [
              "2.0"
            ]
          },
          "metadata": {
            "tags": []
          },
          "execution_count": 22
        }
      ]
    },
    {
      "cell_type": "code",
      "metadata": {
        "id": "Zyr4lli64iIh",
        "colab": {
          "base_uri": "https://localhost:8080/"
        },
        "outputId": "71fdeffb-42b6-40ef-b6ec-aa7de2dea603"
      },
      "source": [
        "type(2/1)"
      ],
      "execution_count": null,
      "outputs": [
        {
          "output_type": "execute_result",
          "data": {
            "text/plain": [
              "float"
            ]
          },
          "metadata": {
            "tags": []
          },
          "execution_count": 23
        }
      ]
    },
    {
      "cell_type": "code",
      "metadata": {
        "id": "8ZXLdEM84ocA",
        "colab": {
          "base_uri": "https://localhost:8080/"
        },
        "outputId": "85ead6cb-0989-4914-e854-19541db83828"
      },
      "source": [
        "2//1"
      ],
      "execution_count": null,
      "outputs": [
        {
          "output_type": "execute_result",
          "data": {
            "text/plain": [
              "2"
            ]
          },
          "metadata": {
            "tags": []
          },
          "execution_count": 24
        }
      ]
    },
    {
      "cell_type": "code",
      "metadata": {
        "id": "fSAxriqa4qex",
        "colab": {
          "base_uri": "https://localhost:8080/"
        },
        "outputId": "d242752b-edb2-4a3a-d7d8-a89e6a699ca7"
      },
      "source": [
        "type(2//1)"
      ],
      "execution_count": null,
      "outputs": [
        {
          "output_type": "execute_result",
          "data": {
            "text/plain": [
              "int"
            ]
          },
          "metadata": {
            "tags": []
          },
          "execution_count": 25
        }
      ]
    },
    {
      "cell_type": "markdown",
      "metadata": {
        "id": "PWdOAeGe52xi"
      },
      "source": [
        "#### **浮点数float**\n",
        "\n",
        "> ***带小数的数***\n",
        "\n",
        "> **整数类型支持两种进制表示：十进制、科学计数法**\n",
        "\n",
        "> **浮点数存在访问限制，计算结果会发生溢出**"
      ]
    },
    {
      "cell_type": "code",
      "metadata": {
        "id": "62cbk2u22MPe",
        "colab": {
          "base_uri": "https://localhost:8080/"
        },
        "outputId": "bfef0c6f-4413-43bc-9768-e5f2c9177ee3"
      },
      "source": [
        "type(1.0)"
      ],
      "execution_count": null,
      "outputs": [
        {
          "output_type": "execute_result",
          "data": {
            "text/plain": [
              "float"
            ]
          },
          "metadata": {
            "tags": []
          },
          "execution_count": 26
        }
      ]
    },
    {
      "cell_type": "code",
      "metadata": {
        "id": "QNRZNnS36rBD",
        "colab": {
          "base_uri": "https://localhost:8080/"
        },
        "outputId": "bbba2a77-0c24-4bdf-c32a-1d0c6a3b0170"
      },
      "source": [
        "0.1+0.1"
      ],
      "execution_count": null,
      "outputs": [
        {
          "output_type": "execute_result",
          "data": {
            "text/plain": [
              "0.2"
            ]
          },
          "metadata": {
            "tags": []
          },
          "execution_count": 27
        }
      ]
    },
    {
      "cell_type": "code",
      "metadata": {
        "id": "FJvT52x56tKa",
        "colab": {
          "base_uri": "https://localhost:8080/"
        },
        "outputId": "9402c3b3-f06b-49be-c5e8-65a7f8bf0cf9"
      },
      "source": [
        "0.1+0.2"
      ],
      "execution_count": null,
      "outputs": [
        {
          "output_type": "execute_result",
          "data": {
            "text/plain": [
              "0.30000000000000004"
            ]
          },
          "metadata": {
            "tags": []
          },
          "execution_count": 28
        }
      ]
    },
    {
      "cell_type": "markdown",
      "metadata": {
        "id": "kj0pklPM497H"
      },
      "source": [
        "#### **布尔型bool**\n",
        "\n",
        "> **True**\n",
        "\n",
        "> **False**\n",
        "\n",
        "*   数字0、空字符串、空列表、空元组、空集合、空字典"
      ]
    },
    {
      "cell_type": "code",
      "metadata": {
        "id": "SiqoGqHJ79Uj",
        "colab": {
          "base_uri": "https://localhost:8080/"
        },
        "outputId": "29f2c183-5200-4854-ed21-49b4dd04aa00"
      },
      "source": [
        "bool(0)"
      ],
      "execution_count": null,
      "outputs": [
        {
          "output_type": "execute_result",
          "data": {
            "text/plain": [
              "False"
            ]
          },
          "metadata": {
            "tags": []
          },
          "execution_count": 29
        }
      ]
    },
    {
      "cell_type": "code",
      "metadata": {
        "id": "fPPXJ4gN8jsr",
        "colab": {
          "base_uri": "https://localhost:8080/"
        },
        "outputId": "fcc29644-3d78-431a-d258-15ca79e3803a"
      },
      "source": [
        "bool(\"\")"
      ],
      "execution_count": null,
      "outputs": [
        {
          "output_type": "execute_result",
          "data": {
            "text/plain": [
              "False"
            ]
          },
          "metadata": {
            "tags": []
          },
          "execution_count": 30
        }
      ]
    },
    {
      "cell_type": "code",
      "metadata": {
        "id": "zLr3Lj6B8lt9",
        "colab": {
          "base_uri": "https://localhost:8080/"
        },
        "outputId": "2bcbe6b3-71ac-4cf9-cf55-acb84370ef4e"
      },
      "source": [
        "bool([])"
      ],
      "execution_count": null,
      "outputs": [
        {
          "output_type": "execute_result",
          "data": {
            "text/plain": [
              "False"
            ]
          },
          "metadata": {
            "tags": []
          },
          "execution_count": 31
        }
      ]
    },
    {
      "cell_type": "code",
      "metadata": {
        "id": "CSdhjLF58oAG",
        "colab": {
          "base_uri": "https://localhost:8080/"
        },
        "outputId": "337dcb75-39ee-40ae-9747-6337c2f2719d"
      },
      "source": [
        "bool(())"
      ],
      "execution_count": null,
      "outputs": [
        {
          "output_type": "execute_result",
          "data": {
            "text/plain": [
              "False"
            ]
          },
          "metadata": {
            "tags": []
          },
          "execution_count": 32
        }
      ]
    },
    {
      "cell_type": "code",
      "metadata": {
        "id": "vhQAe7Rv8qmD",
        "colab": {
          "base_uri": "https://localhost:8080/"
        },
        "outputId": "e18ee99a-29f6-4f03-e88c-cc717557787d"
      },
      "source": [
        "bool({})"
      ],
      "execution_count": null,
      "outputs": [
        {
          "output_type": "execute_result",
          "data": {
            "text/plain": [
              "False"
            ]
          },
          "metadata": {
            "tags": []
          },
          "execution_count": 33
        }
      ]
    },
    {
      "cell_type": "markdown",
      "metadata": {
        "id": "tEu04BL47A7d"
      },
      "source": [
        "#### **复数complex**\n",
        "\n",
        "> **一般表示形式：a+bj，其中a表示实部，b表示虚部，复数对象可以用属性real和imag查看复数的实部和虚部。**"
      ]
    },
    {
      "cell_type": "code",
      "metadata": {
        "id": "zrkNMu8g9rvv",
        "colab": {
          "base_uri": "https://localhost:8080/"
        },
        "outputId": "5cecd784-b567-4504-d3b3-320a224f3058"
      },
      "source": [
        "a=(1+2j).real\n",
        "print (a)\n",
        "b=(1+2j).imag\n",
        "print (b)"
      ],
      "execution_count": null,
      "outputs": [
        {
          "output_type": "stream",
          "text": [
            "1.0\n",
            "2.0\n"
          ],
          "name": "stdout"
        }
      ]
    },
    {
      "cell_type": "markdown",
      "metadata": {
        "id": "v92wEMQK5g0X"
      },
      "source": [
        "### *字符串类型*\n",
        "\n",
        "> **字符串是由字符组成的，且用引号包含**\n",
        "\n",
        "> **Python中的引号有单引号、双引号、三引号；单双引号的作用相同**\n",
        "\n",
        "> **字符串的连接：+**\n",
        "\n",
        "> **字符串和数字不能相加**\n",
        "\n",
        "> **部分字符串不可变，因此不能赋值**"
      ]
    },
    {
      "cell_type": "code",
      "metadata": {
        "id": "Tp_szNKQE3nR",
        "colab": {
          "base_uri": "https://localhost:8080/"
        },
        "outputId": "e820b439-4b5e-4ae7-fb17-17bda8af8917"
      },
      "source": [
        "print('hello'+' '+','+' '+'world')"
      ],
      "execution_count": null,
      "outputs": [
        {
          "output_type": "stream",
          "text": [
            "hello , world\n"
          ],
          "name": "stdout"
        }
      ]
    },
    {
      "cell_type": "code",
      "metadata": {
        "id": "gODaO2pD_opC",
        "colab": {
          "base_uri": "https://localhost:8080/"
        },
        "outputId": "fea8b5f7-5219-48de-99ba-dd824979c098"
      },
      "source": [
        "1+int('2')  #强制转化数据类型"
      ],
      "execution_count": null,
      "outputs": [
        {
          "output_type": "execute_result",
          "data": {
            "text/plain": [
              "3"
            ]
          },
          "metadata": {
            "tags": []
          },
          "execution_count": 36
        }
      ]
    },
    {
      "cell_type": "code",
      "metadata": {
        "id": "YTEE9ZN5C0cw",
        "colab": {
          "base_uri": "https://localhost:8080/",
          "height": 35
        },
        "outputId": "6d3c70b1-0f1b-4e64-ad6e-355a0c9b263f"
      },
      "source": [
        "'a'*3"
      ],
      "execution_count": null,
      "outputs": [
        {
          "output_type": "execute_result",
          "data": {
            "application/vnd.google.colaboratory.intrinsic+json": {
              "type": "string"
            },
            "text/plain": [
              "'aaa'"
            ]
          },
          "metadata": {
            "tags": []
          },
          "execution_count": 37
        }
      ]
    },
    {
      "cell_type": "markdown",
      "metadata": {
        "id": "-p7eZeRhDCd4"
      },
      "source": [
        "#### **转义字符**\n",
        "\n",
        "`\\n`  换行\n",
        "\n",
        "`\\t`  缩进\n",
        "\n",
        "`\\r`  回车\n",
        "\n",
        "`\\0`  空值\n",
        "\n",
        "`\\'`  单引号\n",
        "\n",
        "`\\\"`  双引号\n",
        "\n",
        "`\\\\`  代表\\\n",
        "\n",
        "如果不需要转义字符生效，啧在字符串前添加R或者r"
      ]
    },
    {
      "cell_type": "code",
      "metadata": {
        "colab": {
          "base_uri": "https://localhost:8080/"
        },
        "id": "flai90twEj8G",
        "outputId": "b27fef82-85e3-4349-e4bf-77643c0be689"
      },
      "source": [
        "a='Language:\\n\\tChiniese\\n\\t\\tEnglish'\n",
        "print(a)\n",
        "b=r'Language:\\n\\tChiniese\\n\\t\\tEnglish'\n",
        "print(b)"
      ],
      "execution_count": null,
      "outputs": [
        {
          "output_type": "stream",
          "text": [
            "Language:\n",
            "\tChiniese\n",
            "\t\tEnglish\n",
            "Language:\\n\\tChiniese\\n\\t\\tEnglish\n"
          ],
          "name": "stdout"
        }
      ]
    },
    {
      "cell_type": "markdown",
      "metadata": {
        "id": "Q4qElYMuFhOJ"
      },
      "source": [
        "#### **字符串切片**\n",
        "\n",
        "\n",
        "> **Python中使用切片来截取字符串中的部分字符串，字符串中可以通过方括号运算符号[]来获取索引位置的字符。**\n",
        "\n",
        "> **Python中的索引方式有两种：一种是正序，从0开始；另一种是逆序，从-1开始。**\n",
        "\n",
        "> **切片的表达方式为s[start:end:step]**\n",
        "\n",
        "其中\n",
        "*   s表示字符串\n",
        "*   参数之间使用冒号(:)来分割\n",
        "*   start切片开始的位置\n",
        "*   end切片结束的位置(不包含)\n",
        "*   step切片步长，默认值从1开始，当步长是默认时，最后一个冒号可以省略\n",
        "\n",
        "**字符串内是不可变对象，因此不可以对字符串切片进行赋值。**\n",
        "\n",
        "\n",
        "\n",
        "\n",
        "\n",
        "\n"
      ]
    },
    {
      "cell_type": "code",
      "metadata": {
        "id": "eSw68WY9GUFT",
        "colab": {
          "base_uri": "https://localhost:8080/",
          "height": 35
        },
        "outputId": "75e2fae8-b950-4d01-aabf-5c240882b061"
      },
      "source": [
        "s = 'abc'\n",
        "s[0]"
      ],
      "execution_count": null,
      "outputs": [
        {
          "output_type": "execute_result",
          "data": {
            "application/vnd.google.colaboratory.intrinsic+json": {
              "type": "string"
            },
            "text/plain": [
              "'a'"
            ]
          },
          "metadata": {
            "tags": []
          },
          "execution_count": 39
        }
      ]
    },
    {
      "cell_type": "code",
      "metadata": {
        "id": "Nv8gBvj5Hf32",
        "colab": {
          "base_uri": "https://localhost:8080/",
          "height": 35
        },
        "outputId": "ff009243-1cfd-4473-a832-64cc8751bdfa"
      },
      "source": [
        "s = 'abc'\n",
        "s[0:2]"
      ],
      "execution_count": null,
      "outputs": [
        {
          "output_type": "execute_result",
          "data": {
            "application/vnd.google.colaboratory.intrinsic+json": {
              "type": "string"
            },
            "text/plain": [
              "'ab'"
            ]
          },
          "metadata": {
            "tags": []
          },
          "execution_count": 40
        }
      ]
    },
    {
      "cell_type": "code",
      "metadata": {
        "id": "8Qr4MxHwv_dZ"
      },
      "source": [
        ""
      ],
      "execution_count": null,
      "outputs": []
    },
    {
      "cell_type": "code",
      "metadata": {
        "id": "w40CenoaPGPz",
        "colab": {
          "base_uri": "https://localhost:8080/",
          "height": 35
        },
        "outputId": "f241c7aa-5f27-44b1-923a-396c9f50f51d"
      },
      "source": [
        "s = 'abc'\n",
        "s[:]"
      ],
      "execution_count": null,
      "outputs": [
        {
          "output_type": "execute_result",
          "data": {
            "application/vnd.google.colaboratory.intrinsic+json": {
              "type": "string"
            },
            "text/plain": [
              "'abc'"
            ]
          },
          "metadata": {
            "tags": []
          },
          "execution_count": 41
        }
      ]
    },
    {
      "cell_type": "markdown",
      "metadata": {
        "id": "HPPWl0cu16oE"
      },
      "source": [
        "#### **字符串常见的函数和方法**\n"
      ]
    },
    {
      "cell_type": "markdown",
      "metadata": {
        "id": "C4a2Htcf3c3r"
      },
      "source": [
        "\n",
        "\n",
        "```\n",
        "len()  #获取字符串长度\n",
        "ord()  #把字符转换为ASCLL表中的数字\n",
        "chr()  #此把数字转换为ACSLL表中的字符\n",
        "```\n",
        "\n"
      ]
    },
    {
      "cell_type": "code",
      "metadata": {
        "colab": {
          "base_uri": "https://localhost:8080/"
        },
        "id": "SxIi6EGS3hhb",
        "outputId": "5db92d14-b197-40d8-d3a0-c070c72acca2"
      },
      "source": [
        "S='3546578iujhgbnsmdc'\n",
        "print(len(S))\n",
        "print(ord('a'))\n",
        "print(chr(100))"
      ],
      "execution_count": null,
      "outputs": [
        {
          "output_type": "stream",
          "text": [
            "18\n",
            "97\n",
            "d\n"
          ],
          "name": "stdout"
        }
      ]
    },
    {
      "cell_type": "markdown",
      "metadata": {
        "id": "-QVAqGbt4kj8"
      },
      "source": [
        "\n",
        "\n",
        "```\n",
        "title()  #单词首字母大写\n",
        "upper()  #全部大写\n",
        "lower()  #全部小写\n",
        "```\n",
        "\n"
      ]
    },
    {
      "cell_type": "code",
      "metadata": {
        "id": "VccxyzwjE-VF",
        "colab": {
          "base_uri": "https://localhost:8080/"
        },
        "outputId": "ee101151-2cd8-4c08-f319-0527b01e031a"
      },
      "source": [
        "name = 'ada lovelace'\n",
        "print(name.title())     #首字母大写\n",
        "print(name.upper())     #全部大写\n",
        "print(name.lower())     #全部小写"
      ],
      "execution_count": null,
      "outputs": [
        {
          "output_type": "stream",
          "text": [
            "Ada Lovelace\n",
            "ADA LOVELACE\n",
            "ada lovelace\n"
          ],
          "name": "stdout"
        }
      ]
    },
    {
      "cell_type": "markdown",
      "metadata": {
        "id": "gR6u6djl5HC2"
      },
      "source": [
        "\n",
        "\n",
        "```\n",
        "rstrip()  #把右边空格去掉\n",
        "lstrip()  #把左边空格去掉\n",
        "strip()  #去掉所有空格\n",
        "```\n",
        "\n"
      ]
    },
    {
      "cell_type": "code",
      "metadata": {
        "colab": {
          "base_uri": "https://localhost:8080/"
        },
        "id": "Ymd1PKd-5F_e",
        "outputId": "8770db1f-8838-47c6-a254-b195bd333dfe"
      },
      "source": [
        "s = '  hello world  '\n",
        "print(s.rstrip())\n",
        "print(s.lstrip())\n",
        "print(s.strip())"
      ],
      "execution_count": null,
      "outputs": [
        {
          "output_type": "stream",
          "text": [
            "  hello world\n",
            "hello world  \n",
            "hello world\n"
          ],
          "name": "stdout"
        }
      ]
    },
    {
      "cell_type": "markdown",
      "metadata": {
        "id": "rjgNIe9uU0ZI"
      },
      "source": [
        "##运算符"
      ]
    },
    {
      "cell_type": "markdown",
      "metadata": {
        "id": "Ku9mUfKlV78J"
      },
      "source": [
        "### **算数运算符**"
      ]
    },
    {
      "cell_type": "code",
      "metadata": {
        "id": "ywGESSl6U6Pj"
      },
      "source": [
        "a = 15+3  #加法\n",
        "b = 15-3  #减法\n",
        "c = 15*3  #乘法\n",
        "d = 15/3  #除法\n",
        "e = 15%3  #取余数\n",
        "f = 2**2  #幂运算\n",
        "g = 16//3 #整除"
      ],
      "execution_count": null,
      "outputs": []
    },
    {
      "cell_type": "markdown",
      "metadata": {
        "id": "7JJdNs7wV-A6"
      },
      "source": [
        "### **比较运算符**"
      ]
    },
    {
      "cell_type": "code",
      "metadata": {
        "id": "dGx49lnXWBSK",
        "colab": {
          "base_uri": "https://localhost:8080/"
        },
        "outputId": "6581a609-b20b-4d20-e5b7-73f7cf01cf79"
      },
      "source": [
        "x = 1\n",
        "y = 2\n",
        "print(x == y)  #判断两个数是否相等\n",
        "print(x != y)  #判断两个数是否不相等\n",
        "print(x > y)  #\n",
        "print(x < y)  #\n",
        "print(x >= y)  #\n",
        "print(x <= y)  #"
      ],
      "execution_count": null,
      "outputs": [
        {
          "output_type": "stream",
          "text": [
            "False\n",
            "True\n",
            "False\n",
            "True\n",
            "False\n",
            "True\n"
          ],
          "name": "stdout"
        }
      ]
    },
    {
      "cell_type": "markdown",
      "metadata": {
        "id": "jXFXe5wkWBlL"
      },
      "source": [
        "### **赋值运算符**\n",
        "\n",
        "把右边的值赋给左边"
      ]
    },
    {
      "cell_type": "code",
      "metadata": {
        "colab": {
          "base_uri": "https://localhost:8080/"
        },
        "id": "xxHabNUFc0fS",
        "outputId": "0f269de1-2633-46a3-cf56-7c75ef159ac2"
      },
      "source": [
        "a = 3  #赋值运算符\n",
        "a += 3  #加等\n",
        "print(a)\n",
        "a -= 3\n",
        "print(a)\n",
        "a *= 3\n",
        "print(a)\n",
        "a /= 3\n",
        "print(a)\n",
        "a = 6\n",
        "a %= 2\n",
        "print(a)\n",
        "a = 2\n",
        "a **= 2\n",
        "print(a)\n",
        "a //= 2\n",
        "print(a)"
      ],
      "execution_count": null,
      "outputs": [
        {
          "output_type": "stream",
          "text": [
            "6\n",
            "3\n",
            "9\n",
            "3.0\n",
            "0\n",
            "4\n",
            "2\n"
          ],
          "name": "stdout"
        }
      ]
    },
    {
      "cell_type": "markdown",
      "metadata": {
        "id": "XZ_HYjDneDyp"
      },
      "source": [
        "### **逻辑运算符**"
      ]
    },
    {
      "cell_type": "code",
      "metadata": {
        "colab": {
          "base_uri": "https://localhost:8080/"
        },
        "id": "sjlyQKbDeEAN",
        "outputId": "af230dcc-258c-47a4-ebfe-38d6e1e28e05"
      },
      "source": [
        "a = 1\n",
        "b = 2\n",
        "print(a and b)\n",
        "a = 1\n",
        "b = 0\n",
        "print(a and b)\n",
        "# a and b，若a为假，返回a的值；否则返回b的值\n",
        "\n",
        "a = 1\n",
        "b = 2\n",
        "print(a or b)\n",
        "a = ''\n",
        "b = 2\n",
        "print(a or b)\n",
        "# a or b，若a非假，则返回a；否则返回b的值\n",
        "\n",
        "a = ''\n",
        "b = 2\n",
        "print(not a)\n",
        "print(not b)"
      ],
      "execution_count": null,
      "outputs": [
        {
          "output_type": "stream",
          "text": [
            "2\n",
            "0\n",
            "1\n",
            "2\n",
            "True\n",
            "False\n"
          ],
          "name": "stdout"
        }
      ]
    },
    {
      "cell_type": "markdown",
      "metadata": {
        "id": "w6BqWGkpg8w-"
      },
      "source": [
        "### **位运算符**\n",
        "\n",
        "**针对二进制来进行运算的**"
      ]
    },
    {
      "cell_type": "code",
      "metadata": {
        "colab": {
          "base_uri": "https://localhost:8080/"
        },
        "id": "cSGGrHXzhodp",
        "outputId": "340a9c49-73b7-4563-82e1-3edc34e53a5b"
      },
      "source": [
        "print(1&1)\n",
        "print(1&0)\n",
        "print(0&0)\n",
        "print(110&100)\n",
        "\n",
        "print(1|1)\n",
        "print(1|0)\n",
        "print(0|0)\n",
        "print(110|1)\n",
        "\n",
        "print(1^1)\n",
        "print(1^0)\n",
        "print(0^0)\n",
        "print(110^1)\n",
        "\n",
        "print(0b110 & 0b100)\n",
        "print(0b110|0b1)\n",
        "print(0b110^0b1)\n",
        "\n",
        "# 搞不懂\n",
        "# print(0~1)"
      ],
      "execution_count": null,
      "outputs": [
        {
          "output_type": "stream",
          "text": [
            "1\n",
            "0\n",
            "0\n",
            "100\n",
            "1\n",
            "1\n",
            "0\n",
            "111\n",
            "0\n",
            "1\n",
            "0\n",
            "111\n",
            "4\n",
            "7\n",
            "7\n"
          ],
          "name": "stdout"
        }
      ]
    },
    {
      "cell_type": "markdown",
      "metadata": {
        "id": "rPtHnq0DlOxh"
      },
      "source": [
        "### **成员运算符**\n",
        "\n",
        "判断某个值是否存在某序列中"
      ]
    },
    {
      "cell_type": "code",
      "metadata": {
        "colab": {
          "base_uri": "https://localhost:8080/"
        },
        "id": "qSfwWe2vlOTw",
        "outputId": "9e87fada-14c6-4afd-f4c8-8c5ea1a32ce5"
      },
      "source": [
        "s = 'hello world'\n",
        "print('a' in s)\n",
        "\n",
        "print('h' in s)\n",
        "\n",
        "print('a' not in s)"
      ],
      "execution_count": null,
      "outputs": [
        {
          "output_type": "stream",
          "text": [
            "False\n",
            "True\n",
            "True\n"
          ],
          "name": "stdout"
        }
      ]
    },
    {
      "cell_type": "markdown",
      "metadata": {
        "id": "Hf6i5GU5lmtw"
      },
      "source": [
        "### **身份运算符**\n",
        "\n",
        "用于比较两个对象的存储单元"
      ]
    },
    {
      "cell_type": "code",
      "metadata": {
        "colab": {
          "base_uri": "https://localhost:8080/"
        },
        "id": "HahqNLYQlo9p",
        "outputId": "14f7b0fe-aeab-4a95-e29f-1de032915496"
      },
      "source": [
        "a = 1\n",
        "b = 2\n",
        "print(a is b)\n",
        "print(a is not b)"
      ],
      "execution_count": null,
      "outputs": [
        {
          "output_type": "stream",
          "text": [
            "False\n",
            "True\n"
          ],
          "name": "stdout"
        }
      ]
    },
    {
      "cell_type": "markdown",
      "metadata": {
        "id": "bvZfw_CRruOz"
      },
      "source": [
        "## **组合数据类型**"
      ]
    },
    {
      "cell_type": "markdown",
      "metadata": {
        "id": "iBbp22gOrzZ9"
      },
      "source": [
        "### **列表list**\n",
        "\n",
        "**1、创建方式**\n",
        "\n",
        "① []\n",
        "\n",
        "② list('123') "
      ]
    },
    {
      "cell_type": "code",
      "metadata": {
        "colab": {
          "base_uri": "https://localhost:8080/"
        },
        "id": "n5HBxKJrsBE3",
        "outputId": "7872c0c5-3c34-496d-99fd-e594b858a2de"
      },
      "source": [
        "[1,2,3]"
      ],
      "execution_count": null,
      "outputs": [
        {
          "output_type": "execute_result",
          "data": {
            "text/plain": [
              "[1, 2, 3]"
            ]
          },
          "metadata": {
            "tags": []
          },
          "execution_count": 52
        }
      ]
    },
    {
      "cell_type": "code",
      "metadata": {
        "id": "SsSXAHvjsM18"
      },
      "source": [
        ""
      ],
      "execution_count": null,
      "outputs": []
    },
    {
      "cell_type": "markdown",
      "metadata": {
        "id": "Ef3CT1TSsaKv"
      },
      "source": [
        "**2、添加元素的方式**\n",
        "\n",
        "①append()\n",
        "\n",
        "②insert()"
      ]
    },
    {
      "cell_type": "code",
      "metadata": {
        "colab": {
          "base_uri": "https://localhost:8080/"
        },
        "id": "RI3DUtSUsdrB",
        "outputId": "0c01d660-ae82-4e6d-febb-b8df4f8fa37f"
      },
      "source": [
        "ls = [1,2,3]\n",
        "\n",
        "ls.append(4)\n",
        "print(ls)\n",
        "ls.append(5)\n",
        "print(ls)\n",
        "\n",
        "ls.insert(0,100)\n",
        "print(ls)\n",
        "ls.insert(5,200)\n",
        "print(ls)"
      ],
      "execution_count": null,
      "outputs": [
        {
          "output_type": "stream",
          "text": [
            "[1, 2, 3, 4]\n",
            "[1, 2, 3, 4, 5]\n",
            "[100, 1, 2, 3, 4, 5]\n",
            "[100, 1, 2, 3, 4, 200, 5]\n"
          ],
          "name": "stdout"
        }
      ]
    },
    {
      "cell_type": "markdown",
      "metadata": {
        "id": "5fjfuLWUtIyV"
      },
      "source": [
        "**3、获取元素的方式**\n",
        "\n",
        "变量名[下标]"
      ]
    },
    {
      "cell_type": "code",
      "metadata": {
        "colab": {
          "base_uri": "https://localhost:8080/"
        },
        "id": "ftBCruG6tMk0",
        "outputId": "78ddfce1-ac19-411e-fc7c-c4508a269992"
      },
      "source": [
        "s = 'abc'\n",
        "print(s[0])\n",
        "\n",
        "print(ls[0])"
      ],
      "execution_count": null,
      "outputs": [
        {
          "output_type": "stream",
          "text": [
            "a\n",
            "100\n"
          ],
          "name": "stdout"
        }
      ]
    },
    {
      "cell_type": "markdown",
      "metadata": {
        "id": "65iqMjEJtuHN"
      },
      "source": [
        "**4、从列表中删除元素的方式**\n",
        "\n",
        "remove(元素) 通过元素或者值进行删除\n",
        "\n",
        "del 变量\n",
        "\n",
        "pop() 把列表的最后一个元素给输出\n",
        "\n",
        "pop(index) index表示索引或者下标"
      ]
    },
    {
      "cell_type": "code",
      "metadata": {
        "colab": {
          "base_uri": "https://localhost:8080/"
        },
        "id": "KqolfB1LttuJ",
        "outputId": "1654c0f4-c795-474d-dc81-2f1f54a70f91"
      },
      "source": [
        "ls.remove(1)\n",
        "print(ls)\n",
        "\n",
        "del ls[0]\n",
        "print(ls)\n",
        "\n",
        "print(ls.pop())\n",
        "print(ls.pop(1))"
      ],
      "execution_count": null,
      "outputs": [
        {
          "output_type": "stream",
          "text": [
            "[100, 2, 3, 4, 200, 5]\n",
            "[2, 3, 4, 200, 5]\n",
            "5\n",
            "3\n"
          ],
          "name": "stdout"
        }
      ]
    },
    {
      "cell_type": "markdown",
      "metadata": {
        "id": "kvrwaiqcuNys"
      },
      "source": [
        "**5、列表的常见操作方法**\n",
        "\n",
        "count  统计某一元素在列表中出现的次数\n",
        "\n",
        "extend  把一个列表添加到另外一个列表的后面\n",
        "\n",
        "reverse  把列表倒序\n",
        "\n",
        "sort  排序从小到大\n",
        "\n",
        "clear  清空列表"
      ]
    },
    {
      "cell_type": "code",
      "metadata": {
        "colab": {
          "base_uri": "https://localhost:8080/"
        },
        "id": "z82_OxkdybNj",
        "outputId": "c7324a2d-53d4-4af6-dbb4-8361259f96e9"
      },
      "source": [
        "ls = [1,1,1,1,1,1,1,1,1,3,4,3,2,5,6,7,3,5]\n",
        "print(ls.count(1))\n",
        "\n",
        "a = [1,2]\n",
        "b = [3,4]\n",
        "a.extend(b)\n",
        "print(a)\n",
        "print(a + b)\n",
        "print(a.index(3))\n",
        "\n",
        "a = [1,2,3,4]\n",
        "a.reverse()\n",
        "print(a)\n",
        "\n",
        "a = [2,3,4,5,6,7,8,9,8,7,6,5,4,3,2]\n",
        "a.sort()\n",
        "print(a)\n",
        "\n",
        "a = [2,3,4,5,6,7,8,9,8,7,6,5,4,3,2]\n",
        "a.clear()\n",
        "print(a)"
      ],
      "execution_count": null,
      "outputs": [
        {
          "output_type": "stream",
          "text": [
            "9\n",
            "[1, 2, 3, 4]\n",
            "[1, 2, 3, 4, 3, 4]\n",
            "2\n",
            "[4, 3, 2, 1]\n",
            "[2, 2, 3, 3, 4, 4, 5, 5, 6, 6, 7, 7, 8, 8, 9]\n",
            "[]\n"
          ],
          "name": "stdout"
        }
      ]
    },
    {
      "cell_type": "markdown",
      "metadata": {
        "id": "Th_7UC6p3cU6"
      },
      "source": [
        "**6.列表切片**\n",
        "\n",
        "lists[start:end:step]"
      ]
    },
    {
      "cell_type": "code",
      "metadata": {
        "colab": {
          "base_uri": "https://localhost:8080/"
        },
        "id": "h4wXHQcZ3gQf",
        "outputId": "b8867fa4-45ab-4117-a482-f7fb58fd4046"
      },
      "source": [
        "a = [1,2,3,4,5,6]\n",
        "print(a[:])\n",
        "\n",
        "print(a[0:3])\n",
        "\n",
        "print(a[2:5:2])\n",
        "\n",
        "print(a[-1:])\n",
        "\n",
        "print(a[1:-3])\n",
        "\n",
        "print(a[2:-1:2])"
      ],
      "execution_count": null,
      "outputs": [
        {
          "output_type": "stream",
          "text": [
            "[1, 2, 3, 4, 5, 6]\n",
            "[1, 2, 3]\n",
            "[3, 5]\n",
            "[6]\n",
            "[2, 3]\n",
            "[3, 5]\n"
          ],
          "name": "stdout"
        }
      ]
    },
    {
      "cell_type": "markdown",
      "metadata": {
        "id": "c6Y_Tt81r6AD"
      },
      "source": [
        "### **元组tuple**"
      ]
    },
    {
      "cell_type": "markdown",
      "metadata": {
        "id": "ByKFDrv46UHj"
      },
      "source": [
        "**1、创建元组**"
      ]
    },
    {
      "cell_type": "code",
      "metadata": {
        "colab": {
          "base_uri": "https://localhost:8080/"
        },
        "id": "XIIFA3Bk6any",
        "outputId": "256f03e1-51d4-4178-b6b1-816ddc44197f"
      },
      "source": [
        "1,2,3"
      ],
      "execution_count": null,
      "outputs": [
        {
          "output_type": "execute_result",
          "data": {
            "text/plain": [
              "(1, 2, 3)"
            ]
          },
          "metadata": {
            "tags": []
          },
          "execution_count": 58
        }
      ]
    },
    {
      "cell_type": "code",
      "metadata": {
        "colab": {
          "base_uri": "https://localhost:8080/"
        },
        "id": "22wkZvXy6nUR",
        "outputId": "f78dcfdf-2ac6-4092-e3a9-944756b9cfea"
      },
      "source": [
        "t = (2,3,4)\n",
        "print(t)"
      ],
      "execution_count": null,
      "outputs": [
        {
          "output_type": "stream",
          "text": [
            "(2, 3, 4)\n"
          ],
          "name": "stdout"
        }
      ]
    },
    {
      "cell_type": "code",
      "metadata": {
        "colab": {
          "base_uri": "https://localhost:8080/"
        },
        "id": "sJzjkm_P6tPw",
        "outputId": "9dbdb8da-1ebb-4143-a768-429e8dec287e"
      },
      "source": [
        "()"
      ],
      "execution_count": null,
      "outputs": [
        {
          "output_type": "execute_result",
          "data": {
            "text/plain": [
              "()"
            ]
          },
          "metadata": {
            "tags": []
          },
          "execution_count": 60
        }
      ]
    },
    {
      "cell_type": "code",
      "metadata": {
        "colab": {
          "base_uri": "https://localhost:8080/"
        },
        "id": "cYMwhspJ6vkE",
        "outputId": "2297d57c-a103-4658-8f58-7ee4b686f6ad"
      },
      "source": [
        "bool(())"
      ],
      "execution_count": null,
      "outputs": [
        {
          "output_type": "execute_result",
          "data": {
            "text/plain": [
              "False"
            ]
          },
          "metadata": {
            "tags": []
          },
          "execution_count": 61
        }
      ]
    },
    {
      "cell_type": "code",
      "metadata": {
        "colab": {
          "base_uri": "https://localhost:8080/"
        },
        "id": "AM0Bufn36zjb",
        "outputId": "ca6eb8c2-d4e5-4caa-e00b-f85d120b5334"
      },
      "source": [
        "(1)   #错误写法"
      ],
      "execution_count": null,
      "outputs": [
        {
          "output_type": "execute_result",
          "data": {
            "text/plain": [
              "1"
            ]
          },
          "metadata": {
            "tags": []
          },
          "execution_count": 62
        }
      ]
    },
    {
      "cell_type": "code",
      "metadata": {
        "colab": {
          "base_uri": "https://localhost:8080/"
        },
        "id": "sRMgrkDb66Ke",
        "outputId": "af2887c1-bffd-44c0-8c27-e1984adfd629"
      },
      "source": [
        "(1,)  #正确创建方式"
      ],
      "execution_count": null,
      "outputs": [
        {
          "output_type": "execute_result",
          "data": {
            "text/plain": [
              "(1,)"
            ]
          },
          "metadata": {
            "tags": []
          },
          "execution_count": 63
        }
      ]
    },
    {
      "cell_type": "code",
      "metadata": {
        "colab": {
          "base_uri": "https://localhost:8080/"
        },
        "id": "DV1sBiPX6_s5",
        "outputId": "ba5180e7-ec4a-4d7d-f233-37ebdcec2dc0"
      },
      "source": [
        "tuple('123456')"
      ],
      "execution_count": null,
      "outputs": [
        {
          "output_type": "execute_result",
          "data": {
            "text/plain": [
              "('1', '2', '3', '4', '5', '6')"
            ]
          },
          "metadata": {
            "tags": []
          },
          "execution_count": 64
        }
      ]
    },
    {
      "cell_type": "markdown",
      "metadata": {
        "id": "muqDdjzI7M28"
      },
      "source": [
        "**2、访问元组**\n",
        "\n",
        "访问元组通过下标或者索引方式访问，类似列表元组也有切片"
      ]
    },
    {
      "cell_type": "code",
      "metadata": {
        "colab": {
          "base_uri": "https://localhost:8080/",
          "height": 35
        },
        "id": "WKQ6G0-d7Wp2",
        "outputId": "41f5dfc2-f6da-4f73-9bda-9105c847555b"
      },
      "source": [
        "t = ('a','b','c','d')\n",
        "t[0]"
      ],
      "execution_count": null,
      "outputs": [
        {
          "output_type": "execute_result",
          "data": {
            "application/vnd.google.colaboratory.intrinsic+json": {
              "type": "string"
            },
            "text/plain": [
              "'a'"
            ]
          },
          "metadata": {
            "tags": []
          },
          "execution_count": 65
        }
      ]
    },
    {
      "cell_type": "code",
      "metadata": {
        "id": "lDhcLXv678P1",
        "colab": {
          "base_uri": "https://localhost:8080/"
        },
        "outputId": "47ade01b-9236-462e-cd36-b6802dfad89a"
      },
      "source": [
        "t = (1,2,3,4,5)\n",
        "t[0]"
      ],
      "execution_count": null,
      "outputs": [
        {
          "output_type": "execute_result",
          "data": {
            "text/plain": [
              "1"
            ]
          },
          "metadata": {
            "tags": []
          },
          "execution_count": 66
        }
      ]
    },
    {
      "cell_type": "markdown",
      "metadata": {
        "id": "Z9ABVLSC7uRz"
      },
      "source": [
        "**3、更新元组**\n",
        "\n",
        "元组不允许被修改，但是可以使用元组重新赋值并更新"
      ]
    },
    {
      "cell_type": "code",
      "metadata": {
        "id": "U6pmYbHA71fZ",
        "colab": {
          "base_uri": "https://localhost:8080/",
          "height": 207
        },
        "outputId": "7e8918cc-afb2-48ae-bd3e-1b8a4ce6a6f7"
      },
      "source": [
        "#t = (1,2,3,4,5)\n",
        "#del t\n",
        "#print(t)"
      ],
      "execution_count": null,
      "outputs": [
        {
          "output_type": "error",
          "ename": "NameError",
          "evalue": "ignored",
          "traceback": [
            "\u001b[0;31m---------------------------------------------------------------------------\u001b[0m",
            "\u001b[0;31mNameError\u001b[0m                                 Traceback (most recent call last)",
            "\u001b[0;32m<ipython-input-79-b04573d6bedc>\u001b[0m in \u001b[0;36m<module>\u001b[0;34m()\u001b[0m\n\u001b[1;32m      1\u001b[0m \u001b[0mt\u001b[0m \u001b[0;34m=\u001b[0m \u001b[0;34m(\u001b[0m\u001b[0;36m1\u001b[0m\u001b[0;34m,\u001b[0m\u001b[0;36m2\u001b[0m\u001b[0;34m,\u001b[0m\u001b[0;36m3\u001b[0m\u001b[0;34m,\u001b[0m\u001b[0;36m4\u001b[0m\u001b[0;34m,\u001b[0m\u001b[0;36m5\u001b[0m\u001b[0;34m)\u001b[0m\u001b[0;34m\u001b[0m\u001b[0;34m\u001b[0m\u001b[0m\n\u001b[1;32m      2\u001b[0m \u001b[0;32mdel\u001b[0m \u001b[0mt\u001b[0m\u001b[0;34m\u001b[0m\u001b[0;34m\u001b[0m\u001b[0m\n\u001b[0;32m----> 3\u001b[0;31m \u001b[0mprint\u001b[0m\u001b[0;34m(\u001b[0m\u001b[0mt\u001b[0m\u001b[0;34m)\u001b[0m\u001b[0;34m\u001b[0m\u001b[0;34m\u001b[0m\u001b[0m\n\u001b[0m",
            "\u001b[0;31mNameError\u001b[0m: name 't' is not defined"
          ]
        }
      ]
    },
    {
      "cell_type": "markdown",
      "metadata": {
        "id": "QGwZvlPq9k9z"
      },
      "source": [
        "**4、元组内置函数**\n",
        "\n",
        "len()\n",
        "\n",
        "max()\n",
        "\n",
        "min()\n",
        "\n",
        "tuple()\n"
      ]
    },
    {
      "cell_type": "code",
      "metadata": {
        "id": "bwJIeufO9sZf"
      },
      "source": [
        "t = (1,2,3,4,5)\n",
        "print(len(t))\n",
        "print(max(t))\n",
        "print(min(t))"
      ],
      "execution_count": null,
      "outputs": []
    },
    {
      "cell_type": "markdown",
      "metadata": {
        "id": "bkFJ77lvr4ZZ"
      },
      "source": [
        "### **字典dict**\n",
        "\n",
        "***特点：无序、键值对且键不重复***\n",
        "\n",
        "重复的话，最后一次的为准\n",
        "\n",
        "**1、创建字典**\n",
        "\n",
        "花括号{}\n",
        "\n",
        "dict函数"
      ]
    },
    {
      "cell_type": "code",
      "metadata": {
        "colab": {
          "base_uri": "https://localhost:8080/"
        },
        "id": "2GAEQbovkjYz",
        "outputId": "786fe4e3-e5ea-477e-b044-24152d48a25a"
      },
      "source": [
        "d = {'a':1,'b':2}\n",
        "print(d)\n",
        "\n",
        "e = {1:11,2:22,3:33}\n",
        "print(e)\n",
        "\n",
        "dic = dict(((1,10),(2,20),(3,30)))\n",
        "print(dic)"
      ],
      "execution_count": null,
      "outputs": [
        {
          "output_type": "stream",
          "text": [
            "{'a': 1, 'b': 2}\n",
            "{1: 11, 2: 22, 3: 33}\n",
            "{1: 10, 2: 20, 3: 30}\n"
          ],
          "name": "stdout"
        }
      ]
    },
    {
      "cell_type": "markdown",
      "metadata": {
        "id": "jxKAok0OmGm5"
      },
      "source": [
        "**2、访问字典**\n",
        "\n",
        "使用键key来访问，变量名[key]"
      ]
    },
    {
      "cell_type": "code",
      "metadata": {
        "colab": {
          "base_uri": "https://localhost:8080/"
        },
        "id": "GPxIhJGhmJfW",
        "outputId": "330c3947-148c-4d71-f45d-475ed63b2f5b"
      },
      "source": [
        "d = {'a':1,'b':2}\n",
        "e = {1:11,2:22,3:33}\n",
        "dic = dict(((1,10),(2,20),(3,30)))\n",
        "\n",
        "print(d['a'])\n",
        "print(e[1])\n",
        "print(dic[2])"
      ],
      "execution_count": null,
      "outputs": [
        {
          "output_type": "stream",
          "text": [
            "1\n",
            "11\n",
            "20\n"
          ],
          "name": "stdout"
        }
      ]
    },
    {
      "cell_type": "markdown",
      "metadata": {
        "id": "v5kxfUhpJjza"
      },
      "source": [
        "**3、更新字典**\n",
        "\n",
        "使用键key来来更新，变量名[key] = value"
      ]
    },
    {
      "cell_type": "code",
      "metadata": {
        "colab": {
          "base_uri": "https://localhost:8080/"
        },
        "id": "SlN01zLSJjnO",
        "outputId": "679f8906-d767-4d99-8fa3-49854ba9c12c"
      },
      "source": [
        "dic = dict(((1,10),(2,20),(3,30)))\n",
        "\n",
        "dic[0] = 100\n",
        "print(dic)\n",
        "\n",
        "dic[1] = 100\n",
        "print(dic)"
      ],
      "execution_count": null,
      "outputs": [
        {
          "output_type": "stream",
          "text": [
            "{1: 10, 2: 20, 3: 30, 0: 100}\n",
            "{1: 100, 2: 20, 3: 30, 0: 100}\n"
          ],
          "name": "stdout"
        }
      ]
    },
    {
      "cell_type": "markdown",
      "metadata": {
        "id": "Rq18AMF5JxgH"
      },
      "source": [
        "**4、删除字典**\n",
        "\n",
        "del"
      ]
    },
    {
      "cell_type": "code",
      "metadata": {
        "colab": {
          "base_uri": "https://localhost:8080/"
        },
        "id": "I49ozczWJhoj",
        "outputId": "65bac5bf-fdeb-4033-898c-39544a47a218"
      },
      "source": [
        "dic = dict(((1,10),(2,20),(3,30)))\n",
        "\n",
        "del dic[1]\n",
        "print(dic)"
      ],
      "execution_count": null,
      "outputs": [
        {
          "output_type": "stream",
          "text": [
            "{2: 20, 3: 30}\n"
          ],
          "name": "stdout"
        }
      ]
    },
    {
      "cell_type": "markdown",
      "metadata": {
        "id": "HLS96qxzYqBB"
      },
      "source": [
        "**键 —— 不可变**"
      ]
    },
    {
      "cell_type": "code",
      "metadata": {
        "colab": {
          "base_uri": "https://localhost:8080/",
          "height": 172
        },
        "id": "2TOPV5g6YxTE",
        "outputId": "22a0d9c1-6e30-4bd2-80c1-475cea5adc2f"
      },
      "source": [
        "#d = {1:1,1.2:2,'a':3,(4,):4,[5]:5} #wrong example"
      ],
      "execution_count": null,
      "outputs": [
        {
          "output_type": "error",
          "ename": "TypeError",
          "evalue": "ignored",
          "traceback": [
            "\u001b[0;31m---------------------------------------------------------------------------\u001b[0m",
            "\u001b[0;31mTypeError\u001b[0m                                 Traceback (most recent call last)",
            "\u001b[0;32m<ipython-input-72-8a364bf0da44>\u001b[0m in \u001b[0;36m<module>\u001b[0;34m()\u001b[0m\n\u001b[0;32m----> 1\u001b[0;31m \u001b[0md\u001b[0m \u001b[0;34m=\u001b[0m \u001b[0;34m{\u001b[0m\u001b[0;36m1\u001b[0m\u001b[0;34m:\u001b[0m\u001b[0;36m1\u001b[0m\u001b[0;34m,\u001b[0m\u001b[0;36m1.2\u001b[0m\u001b[0;34m:\u001b[0m\u001b[0;36m2\u001b[0m\u001b[0;34m,\u001b[0m\u001b[0;34m'a'\u001b[0m\u001b[0;34m:\u001b[0m\u001b[0;36m3\u001b[0m\u001b[0;34m,\u001b[0m\u001b[0;34m(\u001b[0m\u001b[0;36m4\u001b[0m\u001b[0;34m,\u001b[0m\u001b[0;34m)\u001b[0m\u001b[0;34m:\u001b[0m\u001b[0;36m4\u001b[0m\u001b[0;34m,\u001b[0m\u001b[0;34m[\u001b[0m\u001b[0;36m5\u001b[0m\u001b[0;34m]\u001b[0m\u001b[0;34m:\u001b[0m\u001b[0;36m5\u001b[0m\u001b[0;34m}\u001b[0m \u001b[0;31m#wrong example\u001b[0m\u001b[0;34m\u001b[0m\u001b[0;34m\u001b[0m\u001b[0m\n\u001b[0m",
            "\u001b[0;31mTypeError\u001b[0m: unhashable type: 'list'"
          ]
        }
      ]
    },
    {
      "cell_type": "code",
      "metadata": {
        "id": "njlc-1vmY_vR"
      },
      "source": [
        "d = {1:1,1.2:2,'a':3,(4,):4}\n",
        "print(d)"
      ],
      "execution_count": null,
      "outputs": []
    },
    {
      "cell_type": "markdown",
      "metadata": {
        "id": "iGtIYEFlZFqr"
      },
      "source": [
        "**5、遍历字典**\n",
        "\n",
        "使用for循环进行遍历"
      ]
    },
    {
      "cell_type": "code",
      "metadata": {
        "id": "FJuveleDZM1W"
      },
      "source": [
        "dic = {1:11,2:22,3:33,4:44}\n",
        "print(dic)\n",
        "for k,v in dic.items():\n",
        "    print(k)\n",
        "    print('--')\n",
        "    print(v)\n",
        "    print('\\n')"
      ],
      "execution_count": null,
      "outputs": []
    },
    {
      "cell_type": "markdown",
      "metadata": {
        "id": "nRNVspfWaFSP"
      },
      "source": [
        "**6、字典操作方法**\n",
        "\n",
        "clear()\n",
        "\n",
        "copy()\n",
        "\n",
        "get()\n",
        "\n",
        "items()\n",
        "\n",
        "keys()\n",
        "\n",
        "values()"
      ]
    },
    {
      "cell_type": "code",
      "metadata": {
        "colab": {
          "base_uri": "https://localhost:8080/"
        },
        "id": "1nDCpdbMaN4t",
        "outputId": "80109a10-4f2a-489d-8d4a-d9889bc324cc"
      },
      "source": [
        "s = [1,2,3]\n",
        "s.clear"
      ],
      "execution_count": null,
      "outputs": [
        {
          "output_type": "execute_result",
          "data": {
            "text/plain": [
              "<function list.clear>"
            ]
          },
          "metadata": {
            "tags": []
          },
          "execution_count": 73
        }
      ]
    },
    {
      "cell_type": "code",
      "metadata": {
        "colab": {
          "base_uri": "https://localhost:8080/"
        },
        "id": "bZt9Pa6eagK8",
        "outputId": "a399a599-8712-4d44-8083-8970a8705c7a"
      },
      "source": [
        "d = {1:11,2:22,3:33,4:44}\n",
        "dic = d.copy()\n",
        "print(dic)\n",
        "print(id(d))\n",
        "print(id(dict))"
      ],
      "execution_count": null,
      "outputs": [
        {
          "output_type": "stream",
          "text": [
            "{1: 11, 2: 22, 3: 33, 4: 44}\n",
            "140091926012624\n",
            "94037233623456\n"
          ],
          "name": "stdout"
        }
      ]
    },
    {
      "cell_type": "code",
      "metadata": {
        "colab": {
          "base_uri": "https://localhost:8080/"
        },
        "id": "TmOvtni4bBr2",
        "outputId": "302bf84a-4963-4f22-b683-407b28447cbf"
      },
      "source": [
        "d = {1:11,2:22,3:33,4:44}\n",
        "d.get(1)"
      ],
      "execution_count": null,
      "outputs": [
        {
          "output_type": "execute_result",
          "data": {
            "text/plain": [
              "11"
            ]
          },
          "metadata": {
            "tags": []
          },
          "execution_count": 80
        }
      ]
    },
    {
      "cell_type": "code",
      "metadata": {
        "colab": {
          "base_uri": "https://localhost:8080/"
        },
        "id": "Jg9oT6O3bLpA",
        "outputId": "af164ee6-f155-4ff5-c0ad-0b357ce12f19"
      },
      "source": [
        "d = {1:11,2:22,3:33,4:44}\n",
        "d.items()"
      ],
      "execution_count": null,
      "outputs": [
        {
          "output_type": "execute_result",
          "data": {
            "text/plain": [
              "dict_items([(1, 11), (2, 22), (3, 33), (4, 44)])"
            ]
          },
          "metadata": {
            "tags": []
          },
          "execution_count": 81
        }
      ]
    },
    {
      "cell_type": "code",
      "metadata": {
        "colab": {
          "base_uri": "https://localhost:8080/"
        },
        "id": "oHAP7xDzbQa3",
        "outputId": "b0140381-84b3-4b2b-8c9b-1cf01f9c58bb"
      },
      "source": [
        "d = {1:11,2:22,3:33,4:44}\n",
        "d.keys()"
      ],
      "execution_count": null,
      "outputs": [
        {
          "output_type": "execute_result",
          "data": {
            "text/plain": [
              "dict_keys([1, 2, 3, 4])"
            ]
          },
          "metadata": {
            "tags": []
          },
          "execution_count": 82
        }
      ]
    },
    {
      "cell_type": "code",
      "metadata": {
        "colab": {
          "base_uri": "https://localhost:8080/"
        },
        "id": "aghdcQqJbU29",
        "outputId": "34acfd50-3049-4fb6-a8c4-cdde66c97c1a"
      },
      "source": [
        "d = {1:11,2:22,3:33,4:44}\n",
        "d.values()"
      ],
      "execution_count": null,
      "outputs": [
        {
          "output_type": "execute_result",
          "data": {
            "text/plain": [
              "dict_values([11, 22, 33, 44])"
            ]
          },
          "metadata": {
            "tags": []
          },
          "execution_count": 83
        }
      ]
    },
    {
      "cell_type": "markdown",
      "metadata": {
        "id": "7-JqeJVcr7Wk"
      },
      "source": [
        "### **集合set**\n",
        "\n",
        "无序且不能够重复"
      ]
    },
    {
      "cell_type": "markdown",
      "metadata": {
        "id": "RavuD0NAbgie"
      },
      "source": [
        "**1、集合的创建**\n",
        "\n",
        "花括号\n",
        "\n",
        "使用函数set()"
      ]
    },
    {
      "cell_type": "code",
      "metadata": {
        "colab": {
          "base_uri": "https://localhost:8080/"
        },
        "id": "My6MA7AEbffH",
        "outputId": "ec6d8029-128a-4a18-8895-ce185d6dc186"
      },
      "source": [
        "sets = {1,2,3}\n",
        "print(sets)\n",
        "sets1 = ('abcdefg')\n",
        "print(sets1)"
      ],
      "execution_count": null,
      "outputs": [
        {
          "output_type": "stream",
          "text": [
            "{1, 2, 3}\n",
            "abcdefg\n"
          ],
          "name": "stdout"
        }
      ]
    },
    {
      "cell_type": "code",
      "metadata": {
        "colab": {
          "base_uri": "https://localhost:8080/"
        },
        "id": "uugMOJTecAYv",
        "outputId": "550502df-91b2-45fc-c6b5-48c1d6b1f78e"
      },
      "source": [
        "st = set([1,2,3,4,5])\n",
        "print(st)\n",
        "\n",
        "st1 = set('abcdefg')\n",
        "print(st1)"
      ],
      "execution_count": null,
      "outputs": [
        {
          "output_type": "stream",
          "text": [
            "{1, 2, 3, 4, 5}\n",
            "{'g', 'e', 'd', 'a', 'c', 'f', 'b'}\n"
          ],
          "name": "stdout"
        }
      ]
    },
    {
      "cell_type": "markdown",
      "metadata": {
        "id": "xgcenLY4bjpu"
      },
      "source": [
        "**2、访问集合**\n",
        "\n",
        "由于集合的无序性，不能够使用索引进行访问，但是可以使用迭代的范式把集合中的数据读取出来。"
      ]
    },
    {
      "cell_type": "code",
      "metadata": {
        "id": "4QMU_6j6bmWr"
      },
      "source": [
        "# s = {1,2,3,4,5,6,7,8,9,0}\n",
        "# s[0]\n",
        "# wrong example"
      ],
      "execution_count": null,
      "outputs": []
    },
    {
      "cell_type": "code",
      "metadata": {
        "id": "6Z1JPscsc6Io"
      },
      "source": [
        "# for value in sets\n",
        "s = {1,2,3,4,5,6,7,8,9,0}\n",
        "for i in s:\n",
        "    print(i)"
      ],
      "execution_count": null,
      "outputs": []
    },
    {
      "cell_type": "markdown",
      "metadata": {
        "id": "pnnIR6madMFC"
      },
      "source": [
        "**3、集合类型的操作符**\n",
        "\n",
        "S-T  #返回在S中但是不在T中的元素\n",
        "\n",
        "S&T  #返回在S和T中的元素\n",
        "\n",
        "S^T  #返回在S和T非共同元素\n",
        "\n",
        "S|T  #返回在S和T中的所有元素"
      ]
    },
    {
      "cell_type": "code",
      "metadata": {
        "colab": {
          "base_uri": "https://localhost:8080/"
        },
        "id": "b6ceKRFldQlN",
        "outputId": "95826f22-a6b1-4bda-d49b-b804b56b6938"
      },
      "source": [
        "s = {1,2,3,4}\n",
        "t = {2,3,4,5,6}\n",
        "\n",
        "print(s-t)\n",
        "print(s&t)\n",
        "print(s^t)\n",
        "print(s|t)"
      ],
      "execution_count": null,
      "outputs": [
        {
          "output_type": "stream",
          "text": [
            "{1}\n",
            "{2, 3, 4}\n",
            "{1, 5, 6}\n",
            "{1, 2, 3, 4, 5, 6}\n"
          ],
          "name": "stdout"
        }
      ]
    },
    {
      "cell_type": "markdown",
      "metadata": {
        "id": "5VRSGGClvvk8"
      },
      "source": [
        "# **MOOC 嵩天课程**\n",
        "\n"
      ]
    },
    {
      "cell_type": "code",
      "metadata": {
        "id": "x4JRvv42v0uj"
      },
      "source": [
        "import turtle\n",
        "turtle.pensize(2)\n",
        "turtle.circle(2)\n",
        "turtle.circle(10)\n",
        "turtle.circle(40)\n",
        "turtle.circle(80)\n",
        "turtle.circle(160)"
      ],
      "execution_count": null,
      "outputs": []
    },
    {
      "cell_type": "code",
      "metadata": {
        "id": "P9GpGTsQ2Fyp"
      },
      "source": [
        "#TempConvert.py\n",
        "TempStr = imput('请输入带有符号的温度值：')\n",
        "if TempStr[-1] in ['F','f']:\n",
        "    C = (eval(TempStr[0:-1])-32)/1.8\n",
        "    print('转换后的温度是{:.2f}C'.format(C))\n",
        "elif TempStr[-1] in ['C','c']:\n",
        "    C = (1.8*eval(TempStr[0:-1])+32)\n",
        "    print(\"转换后的温度是{:.2f}F\".format(F))\n",
        "else:\n",
        "    print(\"输入格式错误\")"
      ],
      "execution_count": null,
      "outputs": []
    },
    {
      "cell_type": "code",
      "metadata": {
        "colab": {
          "base_uri": "https://localhost:8080/",
          "height": 393
        },
        "id": "93Yvk1bNs-uj",
        "outputId": "4bdf7505-55ae-4bfa-f2ed-79ddfce534ef"
      },
      "source": [
        "#PythonDraw.py\n",
        "import turtle\n",
        "turtle.setup(650,350,200,200)\n",
        "#setup设置窗体的大小和位置，并非必须的\n",
        "turtle.penup()\n",
        "turtle.fd(-250)\n",
        "turtle.pendown()\n",
        "turtle.pensize(25)\n",
        "turtle.seth(-40)\n",
        "for i in range(4):\n",
        "    turtle.circle(40,80)\n",
        "    turtle.circle(-40,80)\n",
        "turtle.circle(40,80/2)\n",
        "turtle.fd(40)\n",
        "turtle.circle(16,180)\n",
        "turtle.fd(40 * 2/3)\n",
        "turtle.done()"
      ],
      "execution_count": null,
      "outputs": [
        {
          "output_type": "error",
          "ename": "TclError",
          "evalue": "ignored",
          "traceback": [
            "\u001b[0;31m---------------------------------------------------------------------------\u001b[0m",
            "\u001b[0;31mTclError\u001b[0m                                  Traceback (most recent call last)",
            "\u001b[0;32m<ipython-input-9-589634179957>\u001b[0m in \u001b[0;36m<module>\u001b[0;34m()\u001b[0m\n\u001b[1;32m      3\u001b[0m \u001b[0;31m#turtle.setup(650,350,200,200)\u001b[0m\u001b[0;34m\u001b[0m\u001b[0;34m\u001b[0m\u001b[0;34m\u001b[0m\u001b[0m\n\u001b[1;32m      4\u001b[0m \u001b[0;31m#setup设置窗体的大小和位置，并非必须的\u001b[0m\u001b[0;34m\u001b[0m\u001b[0;34m\u001b[0m\u001b[0;34m\u001b[0m\u001b[0m\n\u001b[0;32m----> 5\u001b[0;31m \u001b[0mturtle\u001b[0m\u001b[0;34m.\u001b[0m\u001b[0mpenup\u001b[0m\u001b[0;34m(\u001b[0m\u001b[0;34m)\u001b[0m\u001b[0;34m\u001b[0m\u001b[0;34m\u001b[0m\u001b[0m\n\u001b[0m\u001b[1;32m      6\u001b[0m \u001b[0mturtle\u001b[0m\u001b[0;34m.\u001b[0m\u001b[0mfd\u001b[0m\u001b[0;34m(\u001b[0m\u001b[0;34m-\u001b[0m\u001b[0;36m250\u001b[0m\u001b[0;34m)\u001b[0m\u001b[0;34m\u001b[0m\u001b[0;34m\u001b[0m\u001b[0m\n\u001b[1;32m      7\u001b[0m \u001b[0mturtle\u001b[0m\u001b[0;34m.\u001b[0m\u001b[0mpendown\u001b[0m\u001b[0;34m(\u001b[0m\u001b[0;34m)\u001b[0m\u001b[0;34m\u001b[0m\u001b[0;34m\u001b[0m\u001b[0m\n",
            "\u001b[0;32m/usr/lib/python3.7/turtle.py\u001b[0m in \u001b[0;36mpenup\u001b[0;34m()\u001b[0m\n",
            "\u001b[0;32m/usr/lib/python3.7/turtle.py\u001b[0m in \u001b[0;36m__init__\u001b[0;34m(self, shape, undobuffersize, visible)\u001b[0m\n\u001b[1;32m   3810\u001b[0m                  visible=_CFG[\"visible\"]):\n\u001b[1;32m   3811\u001b[0m         \u001b[0;32mif\u001b[0m \u001b[0mTurtle\u001b[0m\u001b[0;34m.\u001b[0m\u001b[0m_screen\u001b[0m \u001b[0;32mis\u001b[0m \u001b[0;32mNone\u001b[0m\u001b[0;34m:\u001b[0m\u001b[0;34m\u001b[0m\u001b[0;34m\u001b[0m\u001b[0m\n\u001b[0;32m-> 3812\u001b[0;31m             \u001b[0mTurtle\u001b[0m\u001b[0;34m.\u001b[0m\u001b[0m_screen\u001b[0m \u001b[0;34m=\u001b[0m \u001b[0mScreen\u001b[0m\u001b[0;34m(\u001b[0m\u001b[0;34m)\u001b[0m\u001b[0;34m\u001b[0m\u001b[0;34m\u001b[0m\u001b[0m\n\u001b[0m\u001b[1;32m   3813\u001b[0m         RawTurtle.__init__(self, Turtle._screen,\n\u001b[1;32m   3814\u001b[0m                            \u001b[0mshape\u001b[0m\u001b[0;34m=\u001b[0m\u001b[0mshape\u001b[0m\u001b[0;34m,\u001b[0m\u001b[0;34m\u001b[0m\u001b[0;34m\u001b[0m\u001b[0m\n",
            "\u001b[0;32m/usr/lib/python3.7/turtle.py\u001b[0m in \u001b[0;36mScreen\u001b[0;34m()\u001b[0m\n\u001b[1;32m   3660\u001b[0m     else return the existing one.\"\"\"\n\u001b[1;32m   3661\u001b[0m     \u001b[0;32mif\u001b[0m \u001b[0mTurtle\u001b[0m\u001b[0;34m.\u001b[0m\u001b[0m_screen\u001b[0m \u001b[0;32mis\u001b[0m \u001b[0;32mNone\u001b[0m\u001b[0;34m:\u001b[0m\u001b[0;34m\u001b[0m\u001b[0;34m\u001b[0m\u001b[0m\n\u001b[0;32m-> 3662\u001b[0;31m         \u001b[0mTurtle\u001b[0m\u001b[0;34m.\u001b[0m\u001b[0m_screen\u001b[0m \u001b[0;34m=\u001b[0m \u001b[0m_Screen\u001b[0m\u001b[0;34m(\u001b[0m\u001b[0;34m)\u001b[0m\u001b[0;34m\u001b[0m\u001b[0;34m\u001b[0m\u001b[0m\n\u001b[0m\u001b[1;32m   3663\u001b[0m     \u001b[0;32mreturn\u001b[0m \u001b[0mTurtle\u001b[0m\u001b[0;34m.\u001b[0m\u001b[0m_screen\u001b[0m\u001b[0;34m\u001b[0m\u001b[0;34m\u001b[0m\u001b[0m\n\u001b[1;32m   3664\u001b[0m \u001b[0;34m\u001b[0m\u001b[0m\n",
            "\u001b[0;32m/usr/lib/python3.7/turtle.py\u001b[0m in \u001b[0;36m__init__\u001b[0;34m(self)\u001b[0m\n\u001b[1;32m   3676\u001b[0m         \u001b[0;31m# preserved (perhaps by passing it as an optional parameter)\u001b[0m\u001b[0;34m\u001b[0m\u001b[0;34m\u001b[0m\u001b[0;34m\u001b[0m\u001b[0m\n\u001b[1;32m   3677\u001b[0m         \u001b[0;32mif\u001b[0m \u001b[0m_Screen\u001b[0m\u001b[0;34m.\u001b[0m\u001b[0m_root\u001b[0m \u001b[0;32mis\u001b[0m \u001b[0;32mNone\u001b[0m\u001b[0;34m:\u001b[0m\u001b[0;34m\u001b[0m\u001b[0;34m\u001b[0m\u001b[0m\n\u001b[0;32m-> 3678\u001b[0;31m             \u001b[0m_Screen\u001b[0m\u001b[0;34m.\u001b[0m\u001b[0m_root\u001b[0m \u001b[0;34m=\u001b[0m \u001b[0mself\u001b[0m\u001b[0;34m.\u001b[0m\u001b[0m_root\u001b[0m \u001b[0;34m=\u001b[0m \u001b[0m_Root\u001b[0m\u001b[0;34m(\u001b[0m\u001b[0;34m)\u001b[0m\u001b[0;34m\u001b[0m\u001b[0;34m\u001b[0m\u001b[0m\n\u001b[0m\u001b[1;32m   3679\u001b[0m             \u001b[0mself\u001b[0m\u001b[0;34m.\u001b[0m\u001b[0m_root\u001b[0m\u001b[0;34m.\u001b[0m\u001b[0mtitle\u001b[0m\u001b[0;34m(\u001b[0m\u001b[0m_Screen\u001b[0m\u001b[0;34m.\u001b[0m\u001b[0m_title\u001b[0m\u001b[0;34m)\u001b[0m\u001b[0;34m\u001b[0m\u001b[0;34m\u001b[0m\u001b[0m\n\u001b[1;32m   3680\u001b[0m             \u001b[0mself\u001b[0m\u001b[0;34m.\u001b[0m\u001b[0m_root\u001b[0m\u001b[0;34m.\u001b[0m\u001b[0mondestroy\u001b[0m\u001b[0;34m(\u001b[0m\u001b[0mself\u001b[0m\u001b[0;34m.\u001b[0m\u001b[0m_destroy\u001b[0m\u001b[0;34m)\u001b[0m\u001b[0;34m\u001b[0m\u001b[0;34m\u001b[0m\u001b[0m\n",
            "\u001b[0;32m/usr/lib/python3.7/turtle.py\u001b[0m in \u001b[0;36m__init__\u001b[0;34m(self)\u001b[0m\n\u001b[1;32m    432\u001b[0m     \u001b[0;34m\"\"\"Root class for Screen based on Tkinter.\"\"\"\u001b[0m\u001b[0;34m\u001b[0m\u001b[0;34m\u001b[0m\u001b[0m\n\u001b[1;32m    433\u001b[0m     \u001b[0;32mdef\u001b[0m \u001b[0m__init__\u001b[0m\u001b[0;34m(\u001b[0m\u001b[0mself\u001b[0m\u001b[0;34m)\u001b[0m\u001b[0;34m:\u001b[0m\u001b[0;34m\u001b[0m\u001b[0;34m\u001b[0m\u001b[0m\n\u001b[0;32m--> 434\u001b[0;31m         \u001b[0mTK\u001b[0m\u001b[0;34m.\u001b[0m\u001b[0mTk\u001b[0m\u001b[0;34m.\u001b[0m\u001b[0m__init__\u001b[0m\u001b[0;34m(\u001b[0m\u001b[0mself\u001b[0m\u001b[0;34m)\u001b[0m\u001b[0;34m\u001b[0m\u001b[0;34m\u001b[0m\u001b[0m\n\u001b[0m\u001b[1;32m    435\u001b[0m \u001b[0;34m\u001b[0m\u001b[0m\n\u001b[1;32m    436\u001b[0m     \u001b[0;32mdef\u001b[0m \u001b[0msetupcanvas\u001b[0m\u001b[0;34m(\u001b[0m\u001b[0mself\u001b[0m\u001b[0;34m,\u001b[0m \u001b[0mwidth\u001b[0m\u001b[0;34m,\u001b[0m \u001b[0mheight\u001b[0m\u001b[0;34m,\u001b[0m \u001b[0mcwidth\u001b[0m\u001b[0;34m,\u001b[0m \u001b[0mcheight\u001b[0m\u001b[0;34m)\u001b[0m\u001b[0;34m:\u001b[0m\u001b[0;34m\u001b[0m\u001b[0;34m\u001b[0m\u001b[0m\n",
            "\u001b[0;32m/usr/lib/python3.7/tkinter/__init__.py\u001b[0m in \u001b[0;36m__init__\u001b[0;34m(self, screenName, baseName, className, useTk, sync, use)\u001b[0m\n\u001b[1;32m   2021\u001b[0m                 \u001b[0mbaseName\u001b[0m \u001b[0;34m=\u001b[0m \u001b[0mbaseName\u001b[0m \u001b[0;34m+\u001b[0m \u001b[0mext\u001b[0m\u001b[0;34m\u001b[0m\u001b[0;34m\u001b[0m\u001b[0m\n\u001b[1;32m   2022\u001b[0m         \u001b[0minteractive\u001b[0m \u001b[0;34m=\u001b[0m \u001b[0;36m0\u001b[0m\u001b[0;34m\u001b[0m\u001b[0;34m\u001b[0m\u001b[0m\n\u001b[0;32m-> 2023\u001b[0;31m         \u001b[0mself\u001b[0m\u001b[0;34m.\u001b[0m\u001b[0mtk\u001b[0m \u001b[0;34m=\u001b[0m \u001b[0m_tkinter\u001b[0m\u001b[0;34m.\u001b[0m\u001b[0mcreate\u001b[0m\u001b[0;34m(\u001b[0m\u001b[0mscreenName\u001b[0m\u001b[0;34m,\u001b[0m \u001b[0mbaseName\u001b[0m\u001b[0;34m,\u001b[0m \u001b[0mclassName\u001b[0m\u001b[0;34m,\u001b[0m \u001b[0minteractive\u001b[0m\u001b[0;34m,\u001b[0m \u001b[0mwantobjects\u001b[0m\u001b[0;34m,\u001b[0m \u001b[0museTk\u001b[0m\u001b[0;34m,\u001b[0m \u001b[0msync\u001b[0m\u001b[0;34m,\u001b[0m \u001b[0muse\u001b[0m\u001b[0;34m)\u001b[0m\u001b[0;34m\u001b[0m\u001b[0;34m\u001b[0m\u001b[0m\n\u001b[0m\u001b[1;32m   2024\u001b[0m         \u001b[0;32mif\u001b[0m \u001b[0museTk\u001b[0m\u001b[0;34m:\u001b[0m\u001b[0;34m\u001b[0m\u001b[0;34m\u001b[0m\u001b[0m\n\u001b[1;32m   2025\u001b[0m             \u001b[0mself\u001b[0m\u001b[0;34m.\u001b[0m\u001b[0m_loadtk\u001b[0m\u001b[0;34m(\u001b[0m\u001b[0;34m)\u001b[0m\u001b[0;34m\u001b[0m\u001b[0;34m\u001b[0m\u001b[0m\n",
            "\u001b[0;31mTclError\u001b[0m: no display name and no $DISPLAY environment variable"
          ]
        }
      ]
    }
  ]
}