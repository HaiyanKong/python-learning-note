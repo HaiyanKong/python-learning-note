{
  "nbformat": 4,
  "nbformat_minor": 0,
  "metadata": {
    "colab": {
      "name": "MyPythonLearningNote",
      "provenance": [],
      "collapsed_sections": [],
      "toc_visible": true,
      "authorship_tag": "ABX9TyOojuMwWu/XJy6LCOW1/oTu",
      "include_colab_link": true
    },
    "kernelspec": {
      "name": "python3",
      "display_name": "Python 3"
    },
    "language_info": {
      "name": "python"
    }
  },
  "cells": [
    {
      "cell_type": "markdown",
      "metadata": {
        "id": "view-in-github",
        "colab_type": "text"
      },
      "source": [
        "<a href=\"https://colab.research.google.com/github/HaiyanKong/My-Python-Learning-Note/blob/main/MyPythonLearningNote.ipynb\" target=\"_parent\"><img src=\"https://colab.research.google.com/assets/colab-badge.svg\" alt=\"Open In Colab\"/></a>"
      ]
    },
    {
      "cell_type": "markdown",
      "metadata": {
        "id": "3QBhhGLWscSk"
      },
      "source": [
        "# **变量**"
      ]
    },
    {
      "cell_type": "markdown",
      "metadata": {
        "id": "KDFJO6cq-bQj"
      },
      "source": [
        "## ***命名规则***\n",
        "\n",
        "*   数字、字母、下划线；数字不能作为首字符\n",
        "*   保留字不能作为变量名；Python的35个保留字：\n",
        "`\n",
        "'False', 'None', 'True', 'and', 'as', 'assert', 'break', 'class', 'continue', 'def', 'del', 'elif', 'else', 'except', 'finally', 'for', 'from', 'global', 'if', 'import', 'in', 'is', 'lambda', 'nonlocal', 'not', 'or', 'pass', 'raise', 'return', 'try', 'while', 'with', 'yield'\n",
        "`\n",
        "*   内置函数不能作为变量名，否则内置函数会失效\n",
        "*   变量需要先定义后使用\n",
        "*   变量区分大小写"
      ]
    },
    {
      "cell_type": "code",
      "metadata": {
        "id": "42R-ilCQnkNL",
        "colab": {
          "base_uri": "https://localhost:8080/"
        },
        "outputId": "94d1b205-6308-4737-9826-41a6f7a7673f"
      },
      "source": [
        "import keyword\n",
        "keyword.kwlist"
      ],
      "execution_count": 5,
      "outputs": [
        {
          "output_type": "execute_result",
          "data": {
            "text/plain": [
              "['False',\n",
              " 'None',\n",
              " 'True',\n",
              " 'and',\n",
              " 'as',\n",
              " 'assert',\n",
              " 'async',\n",
              " 'await',\n",
              " 'break',\n",
              " 'class',\n",
              " 'continue',\n",
              " 'def',\n",
              " 'del',\n",
              " 'elif',\n",
              " 'else',\n",
              " 'except',\n",
              " 'finally',\n",
              " 'for',\n",
              " 'from',\n",
              " 'global',\n",
              " 'if',\n",
              " 'import',\n",
              " 'in',\n",
              " 'is',\n",
              " 'lambda',\n",
              " 'nonlocal',\n",
              " 'not',\n",
              " 'or',\n",
              " 'pass',\n",
              " 'raise',\n",
              " 'return',\n",
              " 'try',\n",
              " 'while',\n",
              " 'with',\n",
              " 'yield']"
            ]
          },
          "metadata": {},
          "execution_count": 5
        }
      ]
    },
    {
      "cell_type": "markdown",
      "metadata": {
        "id": "SLIpMo_2-XAb"
      },
      "source": [
        "## ***判断变量是否存在***\n",
        "\n",
        "*   看变量是否分配了内存空间，可通过id函数来查看变量内存地址"
      ]
    },
    {
      "cell_type": "code",
      "metadata": {
        "id": "0uGt9cod1V9S",
        "colab": {
          "base_uri": "https://localhost:8080/"
        },
        "outputId": "b92f835d-17ce-4b4e-e05e-af5606a544e9"
      },
      "source": [
        "a=1\n",
        "id(a)"
      ],
      "execution_count": 6,
      "outputs": [
        {
          "output_type": "execute_result",
          "data": {
            "text/plain": [
              "11256064"
            ]
          },
          "metadata": {},
          "execution_count": 6
        }
      ]
    },
    {
      "cell_type": "markdown",
      "metadata": {
        "id": "a2gQfLS6xqqk"
      },
      "source": [
        "# **数据类型**\n",
        "\n",
        "\n",
        "\n",
        "\n",
        "\n",
        "\n",
        "\n"
      ]
    },
    {
      "cell_type": "markdown",
      "metadata": {
        "id": "kl9rwFr544eU"
      },
      "source": [
        "## ***基本数据类型***"
      ]
    },
    {
      "cell_type": "markdown",
      "metadata": {
        "id": "-XQZ7OW05FA2"
      },
      "source": [
        "### *数字类型*"
      ]
    },
    {
      "cell_type": "markdown",
      "metadata": {
        "id": "1Nms_7QB5JvN"
      },
      "source": [
        "#### **整数int**\n",
        "\n",
        "> **不带小数的数**\n",
        "\n",
        "> **整数类型支持四种进制表示：十进制、二进制、八进制、十六进制**\n",
        "\n",
        "> **四则运算**"
      ]
    },
    {
      "cell_type": "code",
      "metadata": {
        "id": "gMbyret72EoO",
        "colab": {
          "base_uri": "https://localhost:8080/"
        },
        "outputId": "3bee2dd6-165d-436c-8f67-3cea3914d716"
      },
      "source": [
        "type(1)"
      ],
      "execution_count": 7,
      "outputs": [
        {
          "output_type": "execute_result",
          "data": {
            "text/plain": [
              "int"
            ]
          },
          "metadata": {},
          "execution_count": 7
        }
      ]
    },
    {
      "cell_type": "code",
      "metadata": {
        "id": "ZRWiOPZG209L",
        "colab": {
          "base_uri": "https://localhost:8080/"
        },
        "outputId": "2ba1cd7a-8a0f-4600-dc31-e2f2169b5606"
      },
      "source": [
        "0b110   #二进制"
      ],
      "execution_count": 8,
      "outputs": [
        {
          "output_type": "execute_result",
          "data": {
            "text/plain": [
              "6"
            ]
          },
          "metadata": {},
          "execution_count": 8
        }
      ]
    },
    {
      "cell_type": "code",
      "metadata": {
        "id": "ejVOS6e_23-3",
        "colab": {
          "base_uri": "https://localhost:8080/"
        },
        "outputId": "27346646-dd96-4e10-a3eb-0cba26116a0f"
      },
      "source": [
        "0o1234567   #八进制"
      ],
      "execution_count": 9,
      "outputs": [
        {
          "output_type": "execute_result",
          "data": {
            "text/plain": [
              "342391"
            ]
          },
          "metadata": {},
          "execution_count": 9
        }
      ]
    },
    {
      "cell_type": "code",
      "metadata": {
        "id": "XziACloA3W5u",
        "colab": {
          "base_uri": "https://localhost:8080/"
        },
        "outputId": "a1346884-a365-4316-9b9a-31f580deed37"
      },
      "source": [
        "0x123456789abcdef  #十六进制"
      ],
      "execution_count": 10,
      "outputs": [
        {
          "output_type": "execute_result",
          "data": {
            "text/plain": [
              "81985529216486895"
            ]
          },
          "metadata": {},
          "execution_count": 10
        }
      ]
    },
    {
      "cell_type": "code",
      "metadata": {
        "id": "Up9k1UBC4Wl8",
        "colab": {
          "base_uri": "https://localhost:8080/"
        },
        "outputId": "c1c364a7-11f9-454a-b95b-9052c168682a"
      },
      "source": [
        "1+1"
      ],
      "execution_count": 11,
      "outputs": [
        {
          "output_type": "execute_result",
          "data": {
            "text/plain": [
              "2"
            ]
          },
          "metadata": {},
          "execution_count": 11
        }
      ]
    },
    {
      "cell_type": "code",
      "metadata": {
        "id": "QKmCAC6s4bmB",
        "colab": {
          "base_uri": "https://localhost:8080/"
        },
        "outputId": "bdbea3e2-2957-41d1-8476-dd9c01e7f5b8"
      },
      "source": [
        "2-1"
      ],
      "execution_count": 12,
      "outputs": [
        {
          "output_type": "execute_result",
          "data": {
            "text/plain": [
              "1"
            ]
          },
          "metadata": {},
          "execution_count": 12
        }
      ]
    },
    {
      "cell_type": "code",
      "metadata": {
        "id": "UMqJ_8su4dby",
        "colab": {
          "base_uri": "https://localhost:8080/"
        },
        "outputId": "94b343ec-8581-4f57-a781-463d8f79578f"
      },
      "source": [
        "1*2"
      ],
      "execution_count": 13,
      "outputs": [
        {
          "output_type": "execute_result",
          "data": {
            "text/plain": [
              "2"
            ]
          },
          "metadata": {},
          "execution_count": 13
        }
      ]
    },
    {
      "cell_type": "code",
      "metadata": {
        "id": "9aFJodt44f7r",
        "colab": {
          "base_uri": "https://localhost:8080/"
        },
        "outputId": "37149399-5b14-4226-ca65-5b0a0d467852"
      },
      "source": [
        "2/1"
      ],
      "execution_count": 14,
      "outputs": [
        {
          "output_type": "execute_result",
          "data": {
            "text/plain": [
              "2.0"
            ]
          },
          "metadata": {},
          "execution_count": 14
        }
      ]
    },
    {
      "cell_type": "code",
      "metadata": {
        "id": "Zyr4lli64iIh",
        "colab": {
          "base_uri": "https://localhost:8080/"
        },
        "outputId": "a3b16ef2-a49b-4f0b-dac8-bef6515faaa0"
      },
      "source": [
        "type(2/1)"
      ],
      "execution_count": 15,
      "outputs": [
        {
          "output_type": "execute_result",
          "data": {
            "text/plain": [
              "float"
            ]
          },
          "metadata": {},
          "execution_count": 15
        }
      ]
    },
    {
      "cell_type": "code",
      "metadata": {
        "id": "8ZXLdEM84ocA",
        "colab": {
          "base_uri": "https://localhost:8080/"
        },
        "outputId": "3fbc0f80-49a6-4864-d2b7-8f832a433b0f"
      },
      "source": [
        "2//1"
      ],
      "execution_count": 16,
      "outputs": [
        {
          "output_type": "execute_result",
          "data": {
            "text/plain": [
              "2"
            ]
          },
          "metadata": {},
          "execution_count": 16
        }
      ]
    },
    {
      "cell_type": "code",
      "metadata": {
        "id": "fSAxriqa4qex",
        "colab": {
          "base_uri": "https://localhost:8080/"
        },
        "outputId": "19dd9c91-1948-4ebe-9b40-79ee8e72c2c3"
      },
      "source": [
        "type(2//1)"
      ],
      "execution_count": 17,
      "outputs": [
        {
          "output_type": "execute_result",
          "data": {
            "text/plain": [
              "int"
            ]
          },
          "metadata": {},
          "execution_count": 17
        }
      ]
    },
    {
      "cell_type": "markdown",
      "metadata": {
        "id": "PWdOAeGe52xi"
      },
      "source": [
        "#### **浮点数float**\n",
        "\n",
        "> ***带小数的数***\n",
        "\n",
        "> **整数类型支持两种进制表示：十进制、科学计数法**\n",
        "\n",
        "> **浮点数存在访问限制，计算结果会发生溢出**"
      ]
    },
    {
      "cell_type": "code",
      "metadata": {
        "id": "62cbk2u22MPe",
        "colab": {
          "base_uri": "https://localhost:8080/"
        },
        "outputId": "85f0dbfc-2832-4c70-896f-5f94cb78d37d"
      },
      "source": [
        "type(1.0)"
      ],
      "execution_count": 18,
      "outputs": [
        {
          "output_type": "execute_result",
          "data": {
            "text/plain": [
              "float"
            ]
          },
          "metadata": {},
          "execution_count": 18
        }
      ]
    },
    {
      "cell_type": "code",
      "metadata": {
        "id": "QNRZNnS36rBD",
        "colab": {
          "base_uri": "https://localhost:8080/"
        },
        "outputId": "b2659ffa-fdb8-488d-fd53-44934f110254"
      },
      "source": [
        "0.1+0.1"
      ],
      "execution_count": 19,
      "outputs": [
        {
          "output_type": "execute_result",
          "data": {
            "text/plain": [
              "0.2"
            ]
          },
          "metadata": {},
          "execution_count": 19
        }
      ]
    },
    {
      "cell_type": "code",
      "metadata": {
        "id": "FJvT52x56tKa",
        "colab": {
          "base_uri": "https://localhost:8080/"
        },
        "outputId": "a25532bd-1758-4826-e66a-de46b8e83b5a"
      },
      "source": [
        "0.1+0.2"
      ],
      "execution_count": 20,
      "outputs": [
        {
          "output_type": "execute_result",
          "data": {
            "text/plain": [
              "0.30000000000000004"
            ]
          },
          "metadata": {},
          "execution_count": 20
        }
      ]
    },
    {
      "cell_type": "markdown",
      "metadata": {
        "id": "kj0pklPM497H"
      },
      "source": [
        "#### **布尔型bool**\n",
        "\n",
        "> **True**\n",
        "\n",
        "> **False**\n",
        "\n",
        "*   数字0、空字符串、空列表、空元组、空集合、空字典"
      ]
    },
    {
      "cell_type": "code",
      "metadata": {
        "id": "SiqoGqHJ79Uj",
        "colab": {
          "base_uri": "https://localhost:8080/"
        },
        "outputId": "20af6ecc-6bd7-45ff-a208-4e4fdc332dde"
      },
      "source": [
        "bool(0)"
      ],
      "execution_count": 21,
      "outputs": [
        {
          "output_type": "execute_result",
          "data": {
            "text/plain": [
              "False"
            ]
          },
          "metadata": {},
          "execution_count": 21
        }
      ]
    },
    {
      "cell_type": "code",
      "metadata": {
        "id": "fPPXJ4gN8jsr",
        "colab": {
          "base_uri": "https://localhost:8080/"
        },
        "outputId": "0ec57cb5-4621-4841-9c15-d9c4b85d8af9"
      },
      "source": [
        "bool(\"\")"
      ],
      "execution_count": 22,
      "outputs": [
        {
          "output_type": "execute_result",
          "data": {
            "text/plain": [
              "False"
            ]
          },
          "metadata": {},
          "execution_count": 22
        }
      ]
    },
    {
      "cell_type": "code",
      "metadata": {
        "id": "zLr3Lj6B8lt9",
        "colab": {
          "base_uri": "https://localhost:8080/"
        },
        "outputId": "27494fef-325f-47bc-a3f9-e377b5986077"
      },
      "source": [
        "bool([])"
      ],
      "execution_count": 23,
      "outputs": [
        {
          "output_type": "execute_result",
          "data": {
            "text/plain": [
              "False"
            ]
          },
          "metadata": {},
          "execution_count": 23
        }
      ]
    },
    {
      "cell_type": "code",
      "metadata": {
        "id": "CSdhjLF58oAG",
        "colab": {
          "base_uri": "https://localhost:8080/"
        },
        "outputId": "eeb2890b-e8f7-4082-ade1-e6db44526d61"
      },
      "source": [
        "bool(())"
      ],
      "execution_count": 24,
      "outputs": [
        {
          "output_type": "execute_result",
          "data": {
            "text/plain": [
              "False"
            ]
          },
          "metadata": {},
          "execution_count": 24
        }
      ]
    },
    {
      "cell_type": "code",
      "metadata": {
        "id": "vhQAe7Rv8qmD",
        "colab": {
          "base_uri": "https://localhost:8080/"
        },
        "outputId": "5505dc61-20f9-418e-b009-6672dd029c63"
      },
      "source": [
        "bool({})"
      ],
      "execution_count": 25,
      "outputs": [
        {
          "output_type": "execute_result",
          "data": {
            "text/plain": [
              "False"
            ]
          },
          "metadata": {},
          "execution_count": 25
        }
      ]
    },
    {
      "cell_type": "markdown",
      "metadata": {
        "id": "tEu04BL47A7d"
      },
      "source": [
        "#### **复数complex**\n",
        "\n",
        "> **一般表示形式：a+bj，其中a表示实部，b表示虚部，复数对象可以用属性real和imag查看复数的实部和虚部。**"
      ]
    },
    {
      "cell_type": "code",
      "metadata": {
        "id": "zrkNMu8g9rvv",
        "colab": {
          "base_uri": "https://localhost:8080/"
        },
        "outputId": "5a09f02a-9e93-4bdd-d38e-a42471784f89"
      },
      "source": [
        "a=(1+2j).real\n",
        "print (a)\n",
        "b=(1+2j).imag\n",
        "print (b)"
      ],
      "execution_count": 26,
      "outputs": [
        {
          "output_type": "stream",
          "name": "stdout",
          "text": [
            "1.0\n",
            "2.0\n"
          ]
        }
      ]
    },
    {
      "cell_type": "markdown",
      "metadata": {
        "id": "v92wEMQK5g0X"
      },
      "source": [
        "### *字符串类型*\n",
        "\n",
        "> **字符串是由字符组成的，且用引号包含**\n",
        "\n",
        "> **Python中的引号有单引号、双引号、三引号；单双引号的作用相同**\n",
        "\n",
        "> **字符串的连接：+**\n",
        "\n",
        "> **字符串和数字不能相加**\n",
        "\n",
        "> **部分字符串不可变，因此不能赋值**"
      ]
    },
    {
      "cell_type": "code",
      "metadata": {
        "id": "Tp_szNKQE3nR",
        "colab": {
          "base_uri": "https://localhost:8080/"
        },
        "outputId": "e4e0f862-3e6c-4975-fc39-190f291e2757"
      },
      "source": [
        "print('hello'+' '+','+' '+'world')"
      ],
      "execution_count": 27,
      "outputs": [
        {
          "output_type": "stream",
          "name": "stdout",
          "text": [
            "hello , world\n"
          ]
        }
      ]
    },
    {
      "cell_type": "code",
      "metadata": {
        "id": "gODaO2pD_opC",
        "colab": {
          "base_uri": "https://localhost:8080/"
        },
        "outputId": "9b735b69-07c8-4f0c-a7d7-f37da59a7fec"
      },
      "source": [
        "1+int('2')  #强制转化数据类型"
      ],
      "execution_count": 28,
      "outputs": [
        {
          "output_type": "execute_result",
          "data": {
            "text/plain": [
              "3"
            ]
          },
          "metadata": {},
          "execution_count": 28
        }
      ]
    },
    {
      "cell_type": "code",
      "metadata": {
        "id": "YTEE9ZN5C0cw",
        "colab": {
          "base_uri": "https://localhost:8080/",
          "height": 35
        },
        "outputId": "eec3f80d-d4f7-430b-9bc6-2cccf45e2cd3"
      },
      "source": [
        "'a'*3"
      ],
      "execution_count": 29,
      "outputs": [
        {
          "output_type": "execute_result",
          "data": {
            "text/plain": [
              "'aaa'"
            ],
            "application/vnd.google.colaboratory.intrinsic+json": {
              "type": "string"
            }
          },
          "metadata": {},
          "execution_count": 29
        }
      ]
    },
    {
      "cell_type": "markdown",
      "metadata": {
        "id": "-p7eZeRhDCd4"
      },
      "source": [
        "#### **转义字符**\n",
        "\n",
        "`\\n`  换行\n",
        "\n",
        "`\\t`  缩进\n",
        "\n",
        "`\\r`  回车\n",
        "\n",
        "`\\0`  空值\n",
        "\n",
        "`\\'`  单引号\n",
        "\n",
        "`\\\"`  双引号\n",
        "\n",
        "`\\\\`  代表\\\n",
        "\n",
        "如果不需要转义字符生效，啧在字符串前添加R或者r"
      ]
    },
    {
      "cell_type": "code",
      "metadata": {
        "colab": {
          "base_uri": "https://localhost:8080/"
        },
        "id": "flai90twEj8G",
        "outputId": "16ed51fc-a33f-4d63-be17-5b18c21b8bb3"
      },
      "source": [
        "a='Language:\\n\\tChiniese\\n\\t\\tEnglish'\n",
        "print(a)\n",
        "b=r'Language:\\n\\tChiniese\\n\\t\\tEnglish'\n",
        "print(b)"
      ],
      "execution_count": 30,
      "outputs": [
        {
          "output_type": "stream",
          "name": "stdout",
          "text": [
            "Language:\n",
            "\tChiniese\n",
            "\t\tEnglish\n",
            "Language:\\n\\tChiniese\\n\\t\\tEnglish\n"
          ]
        }
      ]
    },
    {
      "cell_type": "markdown",
      "metadata": {
        "id": "Q4qElYMuFhOJ"
      },
      "source": [
        "#### **字符串切片**\n",
        "\n",
        "\n",
        "> **Python中使用切片来截取字符串中的部分字符串，字符串中可以通过方括号运算符号[]来获取索引位置的字符。**\n",
        "\n",
        "> **Python中的索引方式有两种：一种是正序，从0开始；另一种是逆序，从-1开始。**\n",
        "\n",
        "> **切片的表达方式为s[start:end:step]**\n",
        "\n",
        "其中\n",
        "*   s表示字符串\n",
        "*   参数之间使用冒号(:)来分割\n",
        "*   start切片开始的位置\n",
        "*   end切片结束的位置(不包含)\n",
        "*   step切片步长，默认值从1开始，当步长是默认时，最后一个冒号可以省略\n",
        "\n",
        "**字符串内是不可变对象，因此不可以对字符串切片进行赋值。**\n",
        "\n",
        "\n",
        "\n",
        "\n",
        "\n",
        "\n"
      ]
    },
    {
      "cell_type": "code",
      "metadata": {
        "id": "eSw68WY9GUFT",
        "colab": {
          "base_uri": "https://localhost:8080/",
          "height": 35
        },
        "outputId": "211747e7-26f9-45e5-f80a-39505b957d74"
      },
      "source": [
        "s = 'abc'\n",
        "s[0]"
      ],
      "execution_count": 31,
      "outputs": [
        {
          "output_type": "execute_result",
          "data": {
            "text/plain": [
              "'a'"
            ],
            "application/vnd.google.colaboratory.intrinsic+json": {
              "type": "string"
            }
          },
          "metadata": {},
          "execution_count": 31
        }
      ]
    },
    {
      "cell_type": "code",
      "metadata": {
        "id": "Nv8gBvj5Hf32",
        "colab": {
          "base_uri": "https://localhost:8080/",
          "height": 35
        },
        "outputId": "f4a75b52-7e3b-4225-ec9a-dbad408cda78"
      },
      "source": [
        "s = 'abc'\n",
        "s[0:2]"
      ],
      "execution_count": 32,
      "outputs": [
        {
          "output_type": "execute_result",
          "data": {
            "text/plain": [
              "'ab'"
            ],
            "application/vnd.google.colaboratory.intrinsic+json": {
              "type": "string"
            }
          },
          "metadata": {},
          "execution_count": 32
        }
      ]
    },
    {
      "cell_type": "code",
      "metadata": {
        "id": "w40CenoaPGPz",
        "colab": {
          "base_uri": "https://localhost:8080/",
          "height": 35
        },
        "outputId": "07db5b1e-f63e-4a20-d290-1ed61c23ef83"
      },
      "source": [
        "s = 'abc'\n",
        "s[:]"
      ],
      "execution_count": 33,
      "outputs": [
        {
          "output_type": "execute_result",
          "data": {
            "text/plain": [
              "'abc'"
            ],
            "application/vnd.google.colaboratory.intrinsic+json": {
              "type": "string"
            }
          },
          "metadata": {},
          "execution_count": 33
        }
      ]
    },
    {
      "cell_type": "markdown",
      "metadata": {
        "id": "HPPWl0cu16oE"
      },
      "source": [
        "#### **字符串常见的函数和方法**\n"
      ]
    },
    {
      "cell_type": "markdown",
      "metadata": {
        "id": "C4a2Htcf3c3r"
      },
      "source": [
        "\n",
        "\n",
        "```\n",
        "len()  #获取字符串长度\n",
        "ord()  #把字符转换为ASCLL表中的数字\n",
        "chr()  #此把数字转换为ACSLL表中的字符\n",
        "```\n",
        "\n"
      ]
    },
    {
      "cell_type": "code",
      "metadata": {
        "colab": {
          "base_uri": "https://localhost:8080/"
        },
        "id": "SxIi6EGS3hhb",
        "outputId": "7db65c99-0e93-44ed-fc05-b5f9bf83cd7e"
      },
      "source": [
        "S='3546578iujhgbnsmdc'\n",
        "print(len(S))\n",
        "print(ord('a'))\n",
        "print(chr(100))"
      ],
      "execution_count": 34,
      "outputs": [
        {
          "output_type": "stream",
          "name": "stdout",
          "text": [
            "18\n",
            "97\n",
            "d\n"
          ]
        }
      ]
    },
    {
      "cell_type": "markdown",
      "metadata": {
        "id": "-QVAqGbt4kj8"
      },
      "source": [
        "\n",
        "\n",
        "```\n",
        "title()  #单词首字母大写\n",
        "upper()  #全部大写\n",
        "lower()  #全部小写\n",
        "```\n",
        "\n"
      ]
    },
    {
      "cell_type": "code",
      "metadata": {
        "id": "VccxyzwjE-VF",
        "colab": {
          "base_uri": "https://localhost:8080/"
        },
        "outputId": "04b0c019-4742-4a59-809d-ed43d91590e9"
      },
      "source": [
        "name = 'ada lovelace'\n",
        "print(name.title())     #首字母大写\n",
        "print(name.upper())     #全部大写\n",
        "print(name.lower())     #全部小写"
      ],
      "execution_count": 35,
      "outputs": [
        {
          "output_type": "stream",
          "name": "stdout",
          "text": [
            "Ada Lovelace\n",
            "ADA LOVELACE\n",
            "ada lovelace\n"
          ]
        }
      ]
    },
    {
      "cell_type": "markdown",
      "metadata": {
        "id": "gR6u6djl5HC2"
      },
      "source": [
        "\n",
        "\n",
        "```\n",
        "rstrip()  #把右边空格去掉\n",
        "lstrip()  #把左边空格去掉\n",
        "strip()  #去掉所有空格\n",
        "```\n",
        "\n"
      ]
    },
    {
      "cell_type": "code",
      "metadata": {
        "colab": {
          "base_uri": "https://localhost:8080/"
        },
        "id": "Ymd1PKd-5F_e",
        "outputId": "fa022bcf-17f4-4722-ac08-cd380aabb7f4"
      },
      "source": [
        "s = '  hello world  '\n",
        "print(s.rstrip())\n",
        "print(s.lstrip())\n",
        "print(s.strip())"
      ],
      "execution_count": 36,
      "outputs": [
        {
          "output_type": "stream",
          "name": "stdout",
          "text": [
            "  hello world\n",
            "hello world  \n",
            "hello world\n"
          ]
        }
      ]
    },
    {
      "cell_type": "markdown",
      "metadata": {
        "id": "rjgNIe9uU0ZI"
      },
      "source": [
        "##运算符"
      ]
    },
    {
      "cell_type": "markdown",
      "metadata": {
        "id": "Ku9mUfKlV78J"
      },
      "source": [
        "### **算数运算符**"
      ]
    },
    {
      "cell_type": "code",
      "metadata": {
        "id": "ywGESSl6U6Pj"
      },
      "source": [
        "a = 15+3  #加法\n",
        "b = 15-3  #减法\n",
        "c = 15*3  #乘法\n",
        "d = 15/3  #除法\n",
        "e = 15%3  #取余数\n",
        "f = 2**2  #幂运算\n",
        "g = 16//3 #整除"
      ],
      "execution_count": 37,
      "outputs": []
    },
    {
      "cell_type": "markdown",
      "metadata": {
        "id": "7JJdNs7wV-A6"
      },
      "source": [
        "### **比较运算符**"
      ]
    },
    {
      "cell_type": "code",
      "metadata": {
        "id": "dGx49lnXWBSK",
        "colab": {
          "base_uri": "https://localhost:8080/"
        },
        "outputId": "2fb24c31-ec70-4527-973a-1493ea59c580"
      },
      "source": [
        "x = 1\n",
        "y = 2\n",
        "print(x == y)  #判断两个数是否相等\n",
        "print(x != y)  #判断两个数是否不相等\n",
        "print(x > y)  #\n",
        "print(x < y)  #\n",
        "print(x >= y)  #\n",
        "print(x <= y)  #"
      ],
      "execution_count": 38,
      "outputs": [
        {
          "output_type": "stream",
          "name": "stdout",
          "text": [
            "False\n",
            "True\n",
            "False\n",
            "True\n",
            "False\n",
            "True\n"
          ]
        }
      ]
    },
    {
      "cell_type": "markdown",
      "metadata": {
        "id": "jXFXe5wkWBlL"
      },
      "source": [
        "### **赋值运算符**\n",
        "\n",
        "把右边的值赋给左边"
      ]
    },
    {
      "cell_type": "code",
      "metadata": {
        "colab": {
          "base_uri": "https://localhost:8080/"
        },
        "id": "xxHabNUFc0fS",
        "outputId": "da936c6a-ccf8-4c9f-d20b-456c347e8f4f"
      },
      "source": [
        "a = 3  #赋值运算符\n",
        "a += 3  #加等\n",
        "print(a)\n",
        "a -= 3\n",
        "print(a)\n",
        "a *= 3\n",
        "print(a)\n",
        "a /= 3\n",
        "print(a)\n",
        "a = 6\n",
        "a %= 2\n",
        "print(a)\n",
        "a = 2\n",
        "a **= 2\n",
        "print(a)\n",
        "a //= 2\n",
        "print(a)"
      ],
      "execution_count": 39,
      "outputs": [
        {
          "output_type": "stream",
          "name": "stdout",
          "text": [
            "6\n",
            "3\n",
            "9\n",
            "3.0\n",
            "0\n",
            "4\n",
            "2\n"
          ]
        }
      ]
    },
    {
      "cell_type": "markdown",
      "metadata": {
        "id": "XZ_HYjDneDyp"
      },
      "source": [
        "### **逻辑运算符**"
      ]
    },
    {
      "cell_type": "code",
      "metadata": {
        "colab": {
          "base_uri": "https://localhost:8080/"
        },
        "id": "sjlyQKbDeEAN",
        "outputId": "8bc643f8-95d9-4675-e749-3a51b159a598"
      },
      "source": [
        "a = 1\n",
        "b = 2\n",
        "print(a and b)\n",
        "a = 1\n",
        "b = 0\n",
        "print(a and b)\n",
        "# a and b，若a为假，返回a的值；否则返回b的值\n",
        "\n",
        "a = 1\n",
        "b = 2\n",
        "print(a or b)\n",
        "a = ''\n",
        "b = 2\n",
        "print(a or b)\n",
        "# a or b，若a非假，则返回a；否则返回b的值\n",
        "\n",
        "a = ''\n",
        "b = 2\n",
        "print(not a)\n",
        "print(not b)"
      ],
      "execution_count": 40,
      "outputs": [
        {
          "output_type": "stream",
          "name": "stdout",
          "text": [
            "2\n",
            "0\n",
            "1\n",
            "2\n",
            "True\n",
            "False\n"
          ]
        }
      ]
    },
    {
      "cell_type": "markdown",
      "metadata": {
        "id": "w6BqWGkpg8w-"
      },
      "source": [
        "### **位运算符**\n",
        "\n",
        "**针对二进制来进行运算的**"
      ]
    },
    {
      "cell_type": "code",
      "metadata": {
        "colab": {
          "base_uri": "https://localhost:8080/"
        },
        "id": "cSGGrHXzhodp",
        "outputId": "bbd6a3f1-1e44-4ef3-9253-aad170dc423a"
      },
      "source": [
        "print(1&1)\n",
        "print(1&0)\n",
        "print(0&0)\n",
        "print(110&100)\n",
        "\n",
        "print(1|1)\n",
        "print(1|0)\n",
        "print(0|0)\n",
        "print(110|1)\n",
        "\n",
        "print(1^1)\n",
        "print(1^0)\n",
        "print(0^0)\n",
        "print(110^1)\n",
        "\n",
        "print(0b110 & 0b100)\n",
        "print(0b110|0b1)\n",
        "print(0b110^0b1)\n",
        "\n",
        "# 搞不懂\n",
        "# print(0~1)"
      ],
      "execution_count": 41,
      "outputs": [
        {
          "output_type": "stream",
          "name": "stdout",
          "text": [
            "1\n",
            "0\n",
            "0\n",
            "100\n",
            "1\n",
            "1\n",
            "0\n",
            "111\n",
            "0\n",
            "1\n",
            "0\n",
            "111\n",
            "4\n",
            "7\n",
            "7\n"
          ]
        }
      ]
    },
    {
      "cell_type": "markdown",
      "metadata": {
        "id": "rPtHnq0DlOxh"
      },
      "source": [
        "### **成员运算符**\n",
        "\n",
        "判断某个值是否存在某序列中"
      ]
    },
    {
      "cell_type": "code",
      "metadata": {
        "colab": {
          "base_uri": "https://localhost:8080/"
        },
        "id": "qSfwWe2vlOTw",
        "outputId": "b2a7878e-7101-4c63-cc33-c839de76f8ea"
      },
      "source": [
        "s = 'hello world'\n",
        "print('a' in s)\n",
        "\n",
        "print('h' in s)\n",
        "\n",
        "print('a' not in s)"
      ],
      "execution_count": 42,
      "outputs": [
        {
          "output_type": "stream",
          "name": "stdout",
          "text": [
            "False\n",
            "True\n",
            "True\n"
          ]
        }
      ]
    },
    {
      "cell_type": "markdown",
      "metadata": {
        "id": "Hf6i5GU5lmtw"
      },
      "source": [
        "### **身份运算符**\n",
        "\n",
        "用于比较两个对象的存储单元"
      ]
    },
    {
      "cell_type": "code",
      "metadata": {
        "colab": {
          "base_uri": "https://localhost:8080/"
        },
        "id": "HahqNLYQlo9p",
        "outputId": "11fa905e-4a81-4df3-98e3-618185b6f64a"
      },
      "source": [
        "a = 1\n",
        "b = 2\n",
        "print(a is b)\n",
        "print(a is not b)"
      ],
      "execution_count": 43,
      "outputs": [
        {
          "output_type": "stream",
          "name": "stdout",
          "text": [
            "False\n",
            "True\n"
          ]
        }
      ]
    },
    {
      "cell_type": "markdown",
      "metadata": {
        "id": "bvZfw_CRruOz"
      },
      "source": [
        "## **组合数据类型**"
      ]
    },
    {
      "cell_type": "markdown",
      "metadata": {
        "id": "iBbp22gOrzZ9"
      },
      "source": [
        "### **列表list**\n",
        "\n",
        "**1、创建方式**\n",
        "\n",
        "① []\n",
        "\n",
        "② list('123') "
      ]
    },
    {
      "cell_type": "code",
      "metadata": {
        "colab": {
          "base_uri": "https://localhost:8080/"
        },
        "id": "n5HBxKJrsBE3",
        "outputId": "93b3fd79-0f1e-452f-dcc6-0bad463519b6"
      },
      "source": [
        "[1,2,3]"
      ],
      "execution_count": 44,
      "outputs": [
        {
          "output_type": "execute_result",
          "data": {
            "text/plain": [
              "[1, 2, 3]"
            ]
          },
          "metadata": {},
          "execution_count": 44
        }
      ]
    },
    {
      "cell_type": "code",
      "metadata": {
        "id": "SsSXAHvjsM18"
      },
      "source": [
        ""
      ],
      "execution_count": 44,
      "outputs": []
    },
    {
      "cell_type": "markdown",
      "metadata": {
        "id": "Ef3CT1TSsaKv"
      },
      "source": [
        "**2、添加元素的方式**\n",
        "\n",
        "①append()\n",
        "\n",
        "②insert()"
      ]
    },
    {
      "cell_type": "code",
      "metadata": {
        "colab": {
          "base_uri": "https://localhost:8080/"
        },
        "id": "RI3DUtSUsdrB",
        "outputId": "deb59c61-442b-46d1-9297-25eb8b2cb9a9"
      },
      "source": [
        "ls = [1,2,3]\n",
        "\n",
        "ls.append(4)\n",
        "print(ls)\n",
        "ls.append(5)\n",
        "print(ls)\n",
        "\n",
        "ls.insert(0,100)\n",
        "print(ls)\n",
        "ls.insert(5,200)\n",
        "print(ls)"
      ],
      "execution_count": 45,
      "outputs": [
        {
          "output_type": "stream",
          "name": "stdout",
          "text": [
            "[1, 2, 3, 4]\n",
            "[1, 2, 3, 4, 5]\n",
            "[100, 1, 2, 3, 4, 5]\n",
            "[100, 1, 2, 3, 4, 200, 5]\n"
          ]
        }
      ]
    },
    {
      "cell_type": "markdown",
      "metadata": {
        "id": "5fjfuLWUtIyV"
      },
      "source": [
        "**3、获取元素的方式**\n",
        "\n",
        "变量名[下标]"
      ]
    },
    {
      "cell_type": "code",
      "metadata": {
        "colab": {
          "base_uri": "https://localhost:8080/"
        },
        "id": "ftBCruG6tMk0",
        "outputId": "2c379d11-950d-4b86-bbdb-90cfa877b92d"
      },
      "source": [
        "s = 'abc'\n",
        "print(s[0])\n",
        "\n",
        "print(ls[0])"
      ],
      "execution_count": 46,
      "outputs": [
        {
          "output_type": "stream",
          "name": "stdout",
          "text": [
            "a\n",
            "100\n"
          ]
        }
      ]
    },
    {
      "cell_type": "markdown",
      "metadata": {
        "id": "65iqMjEJtuHN"
      },
      "source": [
        "**4、从列表中删除元素的方式**\n",
        "\n",
        "remove(元素) 通过元素或者值进行删除\n",
        "\n",
        "del 变量\n",
        "\n",
        "pop() 把列表的最后一个元素给输出\n",
        "\n",
        "pop(index) index表示索引或者下标"
      ]
    },
    {
      "cell_type": "code",
      "metadata": {
        "colab": {
          "base_uri": "https://localhost:8080/"
        },
        "id": "KqolfB1LttuJ",
        "outputId": "6f9078c3-c496-4276-9632-2aa61b2a8d94"
      },
      "source": [
        "ls.remove(1)\n",
        "print(ls)\n",
        "\n",
        "del ls[0]\n",
        "print(ls)\n",
        "\n",
        "print(ls.pop())\n",
        "print(ls.pop(1))"
      ],
      "execution_count": 47,
      "outputs": [
        {
          "output_type": "stream",
          "name": "stdout",
          "text": [
            "[100, 2, 3, 4, 200, 5]\n",
            "[2, 3, 4, 200, 5]\n",
            "5\n",
            "3\n"
          ]
        }
      ]
    },
    {
      "cell_type": "markdown",
      "metadata": {
        "id": "kvrwaiqcuNys"
      },
      "source": [
        "**5、列表的常见操作方法**\n",
        "\n",
        "count  统计某一元素在列表中出现的次数\n",
        "\n",
        "extend  把一个列表添加到另外一个列表的后面\n",
        "\n",
        "reverse  把列表倒序\n",
        "\n",
        "sort  排序从小到大\n",
        "\n",
        "clear  清空列表"
      ]
    },
    {
      "cell_type": "code",
      "metadata": {
        "colab": {
          "base_uri": "https://localhost:8080/"
        },
        "id": "z82_OxkdybNj",
        "outputId": "03f789ce-c1a6-486e-925d-9857a0872af3"
      },
      "source": [
        "ls = [1,1,1,1,1,1,1,1,1,3,4,3,2,5,6,7,3,5]\n",
        "print(ls.count(1))\n",
        "\n",
        "a = [1,2]\n",
        "b = [3,4]\n",
        "a.extend(b)\n",
        "print(a)\n",
        "print(a + b)\n",
        "print(a.index(3))\n",
        "\n",
        "a = [1,2,3,4]\n",
        "a.reverse()\n",
        "print(a)\n",
        "\n",
        "a = [2,3,4,5,6,7,8,9,8,7,6,5,4,3,2]\n",
        "a.sort()\n",
        "print(a)\n",
        "\n",
        "a = [2,3,4,5,6,7,8,9,8,7,6,5,4,3,2]\n",
        "a.clear()\n",
        "print(a)"
      ],
      "execution_count": 48,
      "outputs": [
        {
          "output_type": "stream",
          "name": "stdout",
          "text": [
            "9\n",
            "[1, 2, 3, 4]\n",
            "[1, 2, 3, 4, 3, 4]\n",
            "2\n",
            "[4, 3, 2, 1]\n",
            "[2, 2, 3, 3, 4, 4, 5, 5, 6, 6, 7, 7, 8, 8, 9]\n",
            "[]\n"
          ]
        }
      ]
    },
    {
      "cell_type": "markdown",
      "metadata": {
        "id": "Th_7UC6p3cU6"
      },
      "source": [
        "**6.列表切片**\n",
        "\n",
        "lists[start:end:step]"
      ]
    },
    {
      "cell_type": "code",
      "metadata": {
        "colab": {
          "base_uri": "https://localhost:8080/"
        },
        "id": "h4wXHQcZ3gQf",
        "outputId": "420a1c42-4f25-4b6a-b3f5-7386b4141629"
      },
      "source": [
        "a = [1,2,3,4,5,6]\n",
        "print(a[:])\n",
        "\n",
        "print(a[0:3])\n",
        "\n",
        "print(a[2:5:2])\n",
        "\n",
        "print(a[-1:])\n",
        "\n",
        "print(a[1:-3])\n",
        "\n",
        "print(a[2:-1:2])"
      ],
      "execution_count": 49,
      "outputs": [
        {
          "output_type": "stream",
          "name": "stdout",
          "text": [
            "[1, 2, 3, 4, 5, 6]\n",
            "[1, 2, 3]\n",
            "[3, 5]\n",
            "[6]\n",
            "[2, 3]\n",
            "[3, 5]\n"
          ]
        }
      ]
    },
    {
      "cell_type": "markdown",
      "metadata": {
        "id": "c6Y_Tt81r6AD"
      },
      "source": [
        "### **元组tuple**"
      ]
    },
    {
      "cell_type": "markdown",
      "metadata": {
        "id": "ByKFDrv46UHj"
      },
      "source": [
        "**1、创建元组**"
      ]
    },
    {
      "cell_type": "code",
      "metadata": {
        "colab": {
          "base_uri": "https://localhost:8080/"
        },
        "id": "XIIFA3Bk6any",
        "outputId": "696338c9-1cb6-489c-af74-b26d78297c42"
      },
      "source": [
        "1,2,3"
      ],
      "execution_count": 50,
      "outputs": [
        {
          "output_type": "execute_result",
          "data": {
            "text/plain": [
              "(1, 2, 3)"
            ]
          },
          "metadata": {},
          "execution_count": 50
        }
      ]
    },
    {
      "cell_type": "code",
      "metadata": {
        "colab": {
          "base_uri": "https://localhost:8080/"
        },
        "id": "22wkZvXy6nUR",
        "outputId": "118606e4-c853-4666-d1cb-eea6c10c6e90"
      },
      "source": [
        "t = (2,3,4)\n",
        "print(t)"
      ],
      "execution_count": 51,
      "outputs": [
        {
          "output_type": "stream",
          "name": "stdout",
          "text": [
            "(2, 3, 4)\n"
          ]
        }
      ]
    },
    {
      "cell_type": "code",
      "metadata": {
        "colab": {
          "base_uri": "https://localhost:8080/"
        },
        "id": "sJzjkm_P6tPw",
        "outputId": "b3b4d00c-72d8-44eb-ee9a-e0552e00fa2b"
      },
      "source": [
        "()"
      ],
      "execution_count": 52,
      "outputs": [
        {
          "output_type": "execute_result",
          "data": {
            "text/plain": [
              "()"
            ]
          },
          "metadata": {},
          "execution_count": 52
        }
      ]
    },
    {
      "cell_type": "code",
      "metadata": {
        "colab": {
          "base_uri": "https://localhost:8080/"
        },
        "id": "cYMwhspJ6vkE",
        "outputId": "b09c7523-7b1d-4bbf-dfbd-4de7d92f0342"
      },
      "source": [
        "bool(())"
      ],
      "execution_count": 53,
      "outputs": [
        {
          "output_type": "execute_result",
          "data": {
            "text/plain": [
              "False"
            ]
          },
          "metadata": {},
          "execution_count": 53
        }
      ]
    },
    {
      "cell_type": "code",
      "metadata": {
        "colab": {
          "base_uri": "https://localhost:8080/"
        },
        "id": "AM0Bufn36zjb",
        "outputId": "84c600fa-ffe9-492c-9216-3826a64311da"
      },
      "source": [
        "(1)   #错误写法"
      ],
      "execution_count": 54,
      "outputs": [
        {
          "output_type": "execute_result",
          "data": {
            "text/plain": [
              "1"
            ]
          },
          "metadata": {},
          "execution_count": 54
        }
      ]
    },
    {
      "cell_type": "code",
      "metadata": {
        "colab": {
          "base_uri": "https://localhost:8080/"
        },
        "id": "sRMgrkDb66Ke",
        "outputId": "907ec7d6-1a8c-420b-c7e6-e367a58babc3"
      },
      "source": [
        "(1,)  #正确创建方式"
      ],
      "execution_count": 55,
      "outputs": [
        {
          "output_type": "execute_result",
          "data": {
            "text/plain": [
              "(1,)"
            ]
          },
          "metadata": {},
          "execution_count": 55
        }
      ]
    },
    {
      "cell_type": "code",
      "metadata": {
        "colab": {
          "base_uri": "https://localhost:8080/"
        },
        "id": "DV1sBiPX6_s5",
        "outputId": "a107cf8b-cb42-42ed-8a81-bacdfce5bfca"
      },
      "source": [
        "tuple('123456')"
      ],
      "execution_count": 56,
      "outputs": [
        {
          "output_type": "execute_result",
          "data": {
            "text/plain": [
              "('1', '2', '3', '4', '5', '6')"
            ]
          },
          "metadata": {},
          "execution_count": 56
        }
      ]
    },
    {
      "cell_type": "markdown",
      "metadata": {
        "id": "muqDdjzI7M28"
      },
      "source": [
        "**2、访问元组**\n",
        "\n",
        "访问元组通过下标或者索引方式访问，类似列表元组也有切片"
      ]
    },
    {
      "cell_type": "code",
      "metadata": {
        "colab": {
          "base_uri": "https://localhost:8080/",
          "height": 35
        },
        "id": "WKQ6G0-d7Wp2",
        "outputId": "d80151f3-3eea-4628-8f5d-e35945fe2dd4"
      },
      "source": [
        "t = ('a','b','c','d')\n",
        "t[0]"
      ],
      "execution_count": 57,
      "outputs": [
        {
          "output_type": "execute_result",
          "data": {
            "text/plain": [
              "'a'"
            ],
            "application/vnd.google.colaboratory.intrinsic+json": {
              "type": "string"
            }
          },
          "metadata": {},
          "execution_count": 57
        }
      ]
    },
    {
      "cell_type": "code",
      "metadata": {
        "id": "lDhcLXv678P1",
        "colab": {
          "base_uri": "https://localhost:8080/"
        },
        "outputId": "18b507b5-5296-45c4-f8aa-7a80f01991a9"
      },
      "source": [
        "t = (1,2,3,4,5)\n",
        "t[0]"
      ],
      "execution_count": 58,
      "outputs": [
        {
          "output_type": "execute_result",
          "data": {
            "text/plain": [
              "1"
            ]
          },
          "metadata": {},
          "execution_count": 58
        }
      ]
    },
    {
      "cell_type": "markdown",
      "metadata": {
        "id": "Z9ABVLSC7uRz"
      },
      "source": [
        "**3、更新元组**\n",
        "\n",
        "元组不允许被修改，但是可以使用元组重新赋值并更新"
      ]
    },
    {
      "cell_type": "code",
      "metadata": {
        "id": "U6pmYbHA71fZ"
      },
      "source": [
        "#t = (1,2,3,4,5)\n",
        "#del t\n",
        "#print(t)"
      ],
      "execution_count": 59,
      "outputs": []
    },
    {
      "cell_type": "markdown",
      "metadata": {
        "id": "QGwZvlPq9k9z"
      },
      "source": [
        "**4、元组内置函数**\n",
        "\n",
        "len()\n",
        "\n",
        "max()\n",
        "\n",
        "min()\n",
        "\n",
        "tuple()\n"
      ]
    },
    {
      "cell_type": "code",
      "metadata": {
        "id": "bwJIeufO9sZf",
        "colab": {
          "base_uri": "https://localhost:8080/"
        },
        "outputId": "83b6bd94-3186-4400-bef3-42a12e084fa3"
      },
      "source": [
        "t = (1,2,3,4,5)\n",
        "print(len(t))\n",
        "print(max(t))\n",
        "print(min(t))"
      ],
      "execution_count": 60,
      "outputs": [
        {
          "output_type": "stream",
          "name": "stdout",
          "text": [
            "5\n",
            "5\n",
            "1\n"
          ]
        }
      ]
    },
    {
      "cell_type": "markdown",
      "metadata": {
        "id": "bkFJ77lvr4ZZ"
      },
      "source": [
        "### **字典dict**\n",
        "\n",
        "***特点：无序、键值对且键不重复***\n",
        "\n",
        "重复的话，最后一次的为准\n",
        "\n",
        "**1、创建字典**\n",
        "\n",
        "花括号{}\n",
        "\n",
        "dict函数"
      ]
    },
    {
      "cell_type": "code",
      "metadata": {
        "colab": {
          "base_uri": "https://localhost:8080/"
        },
        "id": "2GAEQbovkjYz",
        "outputId": "c4e89f62-36f8-4fe9-8bdb-3a9eadf0ed43"
      },
      "source": [
        "d = {'a':1,'b':2}\n",
        "print(d)\n",
        "\n",
        "e = {1:11,2:22,3:33}\n",
        "print(e)\n",
        "\n",
        "dic = dict(((1,10),(2,20),(3,30)))\n",
        "print(dic)"
      ],
      "execution_count": 61,
      "outputs": [
        {
          "output_type": "stream",
          "name": "stdout",
          "text": [
            "{'a': 1, 'b': 2}\n",
            "{1: 11, 2: 22, 3: 33}\n",
            "{1: 10, 2: 20, 3: 30}\n"
          ]
        }
      ]
    },
    {
      "cell_type": "markdown",
      "metadata": {
        "id": "jxKAok0OmGm5"
      },
      "source": [
        "**2、访问字典**\n",
        "\n",
        "使用键key来访问，变量名[key]"
      ]
    },
    {
      "cell_type": "code",
      "metadata": {
        "colab": {
          "base_uri": "https://localhost:8080/"
        },
        "id": "GPxIhJGhmJfW",
        "outputId": "523a9439-df3a-4b4f-9379-38f22a2e9fda"
      },
      "source": [
        "d = {'a':1,'b':2}\n",
        "e = {1:11,2:22,3:33}\n",
        "dic = dict(((1,10),(2,20),(3,30)))\n",
        "\n",
        "print(d['a'])\n",
        "print(e[1])\n",
        "print(dic[2])"
      ],
      "execution_count": 62,
      "outputs": [
        {
          "output_type": "stream",
          "name": "stdout",
          "text": [
            "1\n",
            "11\n",
            "20\n"
          ]
        }
      ]
    },
    {
      "cell_type": "markdown",
      "metadata": {
        "id": "v5kxfUhpJjza"
      },
      "source": [
        "**3、更新字典**\n",
        "\n",
        "使用键key来来更新，变量名[key] = value"
      ]
    },
    {
      "cell_type": "code",
      "metadata": {
        "colab": {
          "base_uri": "https://localhost:8080/"
        },
        "id": "SlN01zLSJjnO",
        "outputId": "b3baba78-1663-42c1-a62d-bce943f3736b"
      },
      "source": [
        "dic = dict(((1,10),(2,20),(3,30)))\n",
        "\n",
        "dic[0] = 100\n",
        "print(dic)\n",
        "\n",
        "dic[1] = 100\n",
        "print(dic)"
      ],
      "execution_count": 63,
      "outputs": [
        {
          "output_type": "stream",
          "name": "stdout",
          "text": [
            "{1: 10, 2: 20, 3: 30, 0: 100}\n",
            "{1: 100, 2: 20, 3: 30, 0: 100}\n"
          ]
        }
      ]
    },
    {
      "cell_type": "markdown",
      "metadata": {
        "id": "Rq18AMF5JxgH"
      },
      "source": [
        "**4、删除字典**\n",
        "\n",
        "del"
      ]
    },
    {
      "cell_type": "code",
      "metadata": {
        "colab": {
          "base_uri": "https://localhost:8080/"
        },
        "id": "I49ozczWJhoj",
        "outputId": "6959fce4-7bdc-4570-eb64-197c10604571"
      },
      "source": [
        "dic = dict(((1,10),(2,20),(3,30)))\n",
        "\n",
        "del dic[1]\n",
        "print(dic)"
      ],
      "execution_count": 64,
      "outputs": [
        {
          "output_type": "stream",
          "name": "stdout",
          "text": [
            "{2: 20, 3: 30}\n"
          ]
        }
      ]
    },
    {
      "cell_type": "markdown",
      "metadata": {
        "id": "HLS96qxzYqBB"
      },
      "source": [
        "**键 —— 不可变**"
      ]
    },
    {
      "cell_type": "code",
      "metadata": {
        "id": "2TOPV5g6YxTE"
      },
      "source": [
        "#d = {1:1,1.2:2,'a':3,(4,):4,[5]:5} #wrong example"
      ],
      "execution_count": 65,
      "outputs": []
    },
    {
      "cell_type": "code",
      "metadata": {
        "id": "njlc-1vmY_vR",
        "colab": {
          "base_uri": "https://localhost:8080/"
        },
        "outputId": "880b2fc0-cb6a-4500-bd53-8e9afa032bdf"
      },
      "source": [
        "d = {1:1,1.2:2,'a':3,(4,):4}\n",
        "print(d)"
      ],
      "execution_count": 66,
      "outputs": [
        {
          "output_type": "stream",
          "name": "stdout",
          "text": [
            "{1: 1, 1.2: 2, 'a': 3, (4,): 4}\n"
          ]
        }
      ]
    },
    {
      "cell_type": "markdown",
      "metadata": {
        "id": "iGtIYEFlZFqr"
      },
      "source": [
        "**5、遍历字典**\n",
        "\n",
        "使用for循环进行遍历"
      ]
    },
    {
      "cell_type": "code",
      "metadata": {
        "id": "FJuveleDZM1W",
        "colab": {
          "base_uri": "https://localhost:8080/"
        },
        "outputId": "640fbc14-c57a-4cb6-970c-09cd96fa5e1d"
      },
      "source": [
        "dic = {1:11,2:22,3:33,4:44}\n",
        "print(dic)\n",
        "for k,v in dic.items():\n",
        "    print(k)\n",
        "    print('--')\n",
        "    print(v)\n",
        "    print('\\n')"
      ],
      "execution_count": 67,
      "outputs": [
        {
          "output_type": "stream",
          "name": "stdout",
          "text": [
            "{1: 11, 2: 22, 3: 33, 4: 44}\n",
            "1\n",
            "--\n",
            "11\n",
            "\n",
            "\n",
            "2\n",
            "--\n",
            "22\n",
            "\n",
            "\n",
            "3\n",
            "--\n",
            "33\n",
            "\n",
            "\n",
            "4\n",
            "--\n",
            "44\n",
            "\n",
            "\n"
          ]
        }
      ]
    },
    {
      "cell_type": "markdown",
      "metadata": {
        "id": "nRNVspfWaFSP"
      },
      "source": [
        "**6、字典操作方法**\n",
        "\n",
        "clear()\n",
        "\n",
        "copy()\n",
        "\n",
        "get()\n",
        "\n",
        "items()\n",
        "\n",
        "keys()\n",
        "\n",
        "values()"
      ]
    },
    {
      "cell_type": "code",
      "metadata": {
        "colab": {
          "base_uri": "https://localhost:8080/"
        },
        "id": "1nDCpdbMaN4t",
        "outputId": "63a74f4a-efa0-4957-d060-7d1e75e3f851"
      },
      "source": [
        "s = [1,2,3]\n",
        "s.clear"
      ],
      "execution_count": 68,
      "outputs": [
        {
          "output_type": "execute_result",
          "data": {
            "text/plain": [
              "<function list.clear>"
            ]
          },
          "metadata": {},
          "execution_count": 68
        }
      ]
    },
    {
      "cell_type": "code",
      "metadata": {
        "colab": {
          "base_uri": "https://localhost:8080/"
        },
        "id": "bZt9Pa6eagK8",
        "outputId": "9ec61002-4b3d-4c13-8808-ff0521b1b829"
      },
      "source": [
        "d = {1:11,2:22,3:33,4:44}\n",
        "dic = d.copy()\n",
        "print(dic)\n",
        "print(id(d))\n",
        "print(id(dict))"
      ],
      "execution_count": 69,
      "outputs": [
        {
          "output_type": "stream",
          "name": "stdout",
          "text": [
            "{1: 11, 2: 22, 3: 33, 4: 44}\n",
            "140378352683120\n",
            "11098304\n"
          ]
        }
      ]
    },
    {
      "cell_type": "code",
      "metadata": {
        "colab": {
          "base_uri": "https://localhost:8080/"
        },
        "id": "TmOvtni4bBr2",
        "outputId": "22da0cd0-98e6-4de6-80a6-1cc4ffc93a20"
      },
      "source": [
        "d = {1:11,2:22,3:33,4:44}\n",
        "d.get(1)"
      ],
      "execution_count": 70,
      "outputs": [
        {
          "output_type": "execute_result",
          "data": {
            "text/plain": [
              "11"
            ]
          },
          "metadata": {},
          "execution_count": 70
        }
      ]
    },
    {
      "cell_type": "code",
      "metadata": {
        "colab": {
          "base_uri": "https://localhost:8080/"
        },
        "id": "Jg9oT6O3bLpA",
        "outputId": "067d5292-7e87-4233-fe17-bfa85a2fa6f7"
      },
      "source": [
        "d = {1:11,2:22,3:33,4:44}\n",
        "d.items()"
      ],
      "execution_count": 71,
      "outputs": [
        {
          "output_type": "execute_result",
          "data": {
            "text/plain": [
              "dict_items([(1, 11), (2, 22), (3, 33), (4, 44)])"
            ]
          },
          "metadata": {},
          "execution_count": 71
        }
      ]
    },
    {
      "cell_type": "code",
      "metadata": {
        "colab": {
          "base_uri": "https://localhost:8080/"
        },
        "id": "oHAP7xDzbQa3",
        "outputId": "38b41fba-ee4d-4350-ba20-4f774c40c600"
      },
      "source": [
        "d = {1:11,2:22,3:33,4:44}\n",
        "d.keys()"
      ],
      "execution_count": 72,
      "outputs": [
        {
          "output_type": "execute_result",
          "data": {
            "text/plain": [
              "dict_keys([1, 2, 3, 4])"
            ]
          },
          "metadata": {},
          "execution_count": 72
        }
      ]
    },
    {
      "cell_type": "code",
      "metadata": {
        "colab": {
          "base_uri": "https://localhost:8080/"
        },
        "id": "aghdcQqJbU29",
        "outputId": "ae4d56f3-617f-4230-89d0-46d29997e08f"
      },
      "source": [
        "d = {1:11,2:22,3:33,4:44}\n",
        "d.values()"
      ],
      "execution_count": 73,
      "outputs": [
        {
          "output_type": "execute_result",
          "data": {
            "text/plain": [
              "dict_values([11, 22, 33, 44])"
            ]
          },
          "metadata": {},
          "execution_count": 73
        }
      ]
    },
    {
      "cell_type": "markdown",
      "metadata": {
        "id": "7-JqeJVcr7Wk"
      },
      "source": [
        "### **集合set**\n",
        "\n",
        "无序且不能够重复"
      ]
    },
    {
      "cell_type": "markdown",
      "metadata": {
        "id": "RavuD0NAbgie"
      },
      "source": [
        "**1、集合的创建**\n",
        "\n",
        "花括号\n",
        "\n",
        "使用函数set()"
      ]
    },
    {
      "cell_type": "code",
      "metadata": {
        "colab": {
          "base_uri": "https://localhost:8080/"
        },
        "id": "My6MA7AEbffH",
        "outputId": "f2fb7b9f-2f4d-46f7-8e9e-810a566e3e63"
      },
      "source": [
        "sets = {1,2,3}\n",
        "print(sets)\n",
        "sets1 = ('abcdefg')\n",
        "print(sets1)"
      ],
      "execution_count": 74,
      "outputs": [
        {
          "output_type": "stream",
          "name": "stdout",
          "text": [
            "{1, 2, 3}\n",
            "abcdefg\n"
          ]
        }
      ]
    },
    {
      "cell_type": "code",
      "metadata": {
        "colab": {
          "base_uri": "https://localhost:8080/"
        },
        "id": "uugMOJTecAYv",
        "outputId": "d1cb8cad-6741-4b5c-9007-03d69ddf0b32"
      },
      "source": [
        "st = set([1,2,3,4,5])\n",
        "print(st)\n",
        "\n",
        "st1 = set('abcdefg')\n",
        "print(st1)"
      ],
      "execution_count": 75,
      "outputs": [
        {
          "output_type": "stream",
          "name": "stdout",
          "text": [
            "{1, 2, 3, 4, 5}\n",
            "{'b', 'd', 'e', 'g', 'a', 'f', 'c'}\n"
          ]
        }
      ]
    },
    {
      "cell_type": "markdown",
      "metadata": {
        "id": "xgcenLY4bjpu"
      },
      "source": [
        "**2、访问集合**\n",
        "\n",
        "由于集合的无序性，不能够使用索引进行访问，但是可以使用迭代的范式把集合中的数据读取出来。"
      ]
    },
    {
      "cell_type": "code",
      "metadata": {
        "id": "4QMU_6j6bmWr"
      },
      "source": [
        "# s = {1,2,3,4,5,6,7,8,9,0}\n",
        "# s[0]\n",
        "# wrong example"
      ],
      "execution_count": 76,
      "outputs": []
    },
    {
      "cell_type": "code",
      "metadata": {
        "id": "6Z1JPscsc6Io",
        "colab": {
          "base_uri": "https://localhost:8080/"
        },
        "outputId": "93a761af-b4f4-4f00-dfad-a1d908de708f"
      },
      "source": [
        "# for value in sets\n",
        "s = {1,2,3,4,5,6,7,8,9,0}\n",
        "for i in s:\n",
        "    print(i)"
      ],
      "execution_count": 77,
      "outputs": [
        {
          "output_type": "stream",
          "name": "stdout",
          "text": [
            "0\n",
            "1\n",
            "2\n",
            "3\n",
            "4\n",
            "5\n",
            "6\n",
            "7\n",
            "8\n",
            "9\n"
          ]
        }
      ]
    },
    {
      "cell_type": "markdown",
      "metadata": {
        "id": "pnnIR6madMFC"
      },
      "source": [
        "**3、集合类型的操作符**\n",
        "\n",
        "S-T  #返回在S中但是不在T中的元素\n",
        "\n",
        "S&T  #返回在S和T中的元素\n",
        "\n",
        "S^T  #返回在S和T非共同元素\n",
        "\n",
        "S|T  #返回在S和T中的所有元素"
      ]
    },
    {
      "cell_type": "code",
      "metadata": {
        "colab": {
          "base_uri": "https://localhost:8080/"
        },
        "id": "b6ceKRFldQlN",
        "outputId": "2d1b1ed4-c835-4ac3-8e7c-3f3dfe57816f"
      },
      "source": [
        "s = {1,2,3,4}\n",
        "t = {2,3,4,5,6}\n",
        "\n",
        "print(s-t)\n",
        "print(s&t)\n",
        "print(s^t)\n",
        "print(s|t)"
      ],
      "execution_count": 78,
      "outputs": [
        {
          "output_type": "stream",
          "name": "stdout",
          "text": [
            "{1}\n",
            "{2, 3, 4}\n",
            "{1, 5, 6}\n",
            "{1, 2, 3, 4, 5, 6}\n"
          ]
        }
      ]
    }
  ]
}